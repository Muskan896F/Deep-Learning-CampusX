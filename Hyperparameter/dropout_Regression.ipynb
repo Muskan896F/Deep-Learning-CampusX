{
 "cells": [
  {
   "cell_type": "markdown",
   "metadata": {},
   "source": [
    "# Dropout in Neural Networks\n",
    "\n",
    "Dropout is a regularization technique used in neural networks to prevent overfitting. It works by randomly \"dropping out\" (setting to zero) a fraction of the neurons during training, ensuring the network doesn't rely too heavily on specific neurons. This forces the model to learn more robust features.\n",
    "\n",
    "## How Dropout Works\n",
    "1. During training, a randomly selected subset of neurons is ignored (set to zero) in each forward and backward pass.\n",
    "2. This random dropping of neurons creates multiple \"thinned\" versions of the network, effectively training an ensemble of subnetworks.\n",
    "3. During testing (or inference), no neurons are dropped. Instead, their weights are scaled down by the dropout rate to maintain consistency with the training phase.\n",
    "\n",
    "## Key Parameters in Dropout\n",
    "Dropout is implemented as a layer in frameworks like Keras and PyTorch. Below are its main parameters:\n",
    "\n",
    "### **1. `rate`**\n",
    "- The fraction of neurons to drop.\n",
    "- Value: A float between `0` and `1`.\n",
    "  - Example: `rate=0.2` means 20% of neurons are dropped.\n",
    "- Common values are `0.2` to `0.5`.\n",
    "\n",
    "### **2. `seed` (optional)**\n",
    "- A random seed for reproducibility.\n",
    "- Default: None.\n",
    "\n",
    "## Benefits of Dropout\n",
    "1. **Reduces Overfitting**:\n",
    "   - Prevents the network from becoming overly dependent on specific neurons.\n",
    "   - Encourages the model to generalize better to unseen data.\n",
    "2. **Acts as Regularization**:\n",
    "   - Similar to \\(L_1\\) or \\(L_2\\) regularization but often more effective for deep networks.\n",
    "\n",
    "## Dropout in Keras\n",
    "In Keras, dropout is added as a layer in the model.\n",
    "\n",
    "### Example Code:\n",
    "```python\n",
    "from tensorflow.keras.models import Sequential\n",
    "from tensorflow.keras.layers import Dense, Dropout\n",
    "\n",
    "# Define the model\n",
    "model = Sequential([\n",
    "    Dense(128, activation='relu', input_shape=(784,)),  # Input layer\n",
    "    Dropout(0.2),  # Dropout with 20% rate\n",
    "    Dense(64, activation='relu'),  # Hidden layer\n",
    "    Dropout(0.3),  # Dropout with 30% rate\n",
    "    Dense(10, activation='softmax')  # Output layer\n",
    "])\n",
    "\n",
    "# Compile the model\n",
    "model.compile(optimizer='adam', loss='categorical_crossentropy', metrics=['accuracy'])\n",
    "\n",
    "# Train the model\n",
    "history = model.fit(X_train, y_train, validation_data=(X_val, y_val), epochs=50, batch_size=32)\n"
   ]
  },
  {
   "cell_type": "markdown",
   "metadata": {},
   "source": [
    "---"
   ]
  },
  {
   "cell_type": "markdown",
   "metadata": {},
   "source": [
    "# How Dropout is Similar to Random Forest\n",
    "\n",
    "Dropout in neural networks and Random Forests are both techniques that leverage randomness to improve model generalization and reduce overfitting. While they are used in different contexts (neural networks vs. decision trees), there are conceptual similarities in their mechanisms:\n",
    "\n",
    "## 1. **Ensemble-Like Behavior**\n",
    "- **Random Forest**:\n",
    "  - Combines predictions from multiple decision trees, each trained on a random subset of features and/or data samples.\n",
    "  - This randomness reduces correlation between individual trees, leading to a more robust final prediction.\n",
    "  \n",
    "- **Dropout**:\n",
    "  - During training, Dropout randomly deactivates a subset of neurons in each layer. This creates many \"thinned\" versions of the network.\n",
    "  - Effectively, an ensemble of smaller subnetworks is trained simultaneously.\n",
    "  - At inference, all neurons are used, similar to aggregating predictions from all trees in a Random Forest.\n",
    "\n",
    "## 2. **Prevent Overfitting**\n",
    "Both methods aim to prevent overfitting by introducing randomness:\n",
    "- **Random Forest**:\n",
    "  - Reduces overfitting by ensuring no single tree dominates the prediction.\n",
    "  - Each tree is trained on slightly different data or features, leading to diverse decision boundaries.\n",
    "  \n",
    "- **Dropout**:\n",
    "  - Reduces overfitting by ensuring no single neuron becomes overly important.\n",
    "  - Forces the network to distribute learning across neurons.\n",
    "\n",
    "## 3. **Robustness Through Diversity**\n",
    "- **Random Forest**:\n",
    "  - Diversity is achieved by training individual trees on different random subsets of features and data samples.\n",
    "  \n",
    "- **Dropout**:\n",
    "  - Diversity is achieved by training the network with different random subsets of neurons in each forward pass.\n",
    "\n",
    "## Key Differences\n",
    "While there are similarities, the two methods are fundamentally different:\n",
    "| Feature                | Random Forest                            | Dropout                                |\n",
    "|------------------------|------------------------------------------|----------------------------------------|\n",
    "| **Type of Model**      | Ensemble of decision trees               | Regularization technique in neural nets |\n",
    "| **Focus**              | Randomizing input features and data      | Randomizing neurons during training    |\n",
    "| **Inference**          | Combines predictions from all trees      | Uses all neurons with scaled weights   |\n",
    "| **Implementation**     | Part of model architecture               | Applied to existing neural network layers |\n",
    "\n",
    "## Analogy\n",
    "Think of Dropout as creating a \"forest\" of neural networks, where each training iteration randomly prunes some \"branches\" (neurons). Similarly, Random Forest creates a collection of decision trees with randomly selected \"features\" (splits). Both techniques promote diversity and prevent over-reliance on specific components, leading to more generalized models.\n",
    "\n",
    "By introducing randomness and ensuring no single element dominates, both Dropout and Random Forest improve robustness and generalization.\n"
   ]
  },
  {
   "cell_type": "markdown",
   "metadata": {},
   "source": [
    "# Why Dropout is Used During Training, Not Testing\n",
    "\n",
    "Dropout is a regularization technique that is **only applied during training** and not during testing (or inference). This is because the purpose of Dropout is to prevent overfitting during training by introducing randomness. Here's a detailed explanation:\n",
    "\n",
    "---\n",
    "\n",
    "## 1. **Role of Dropout During Training**\n",
    "- During training, Dropout randomly deactivates (sets to zero) a fraction of neurons in each layer for every forward pass.\n",
    "- This random \"dropping out\" forces the network to:\n",
    "  - Learn more robust features by not relying on specific neurons.\n",
    "  - Distribute learning across all neurons, which prevents over-reliance on specific pathways.\n",
    "- As a result, the network behaves like an ensemble of multiple subnetworks, improving generalization.\n",
    "\n",
    "---\n",
    "\n",
    "## 2. **Why Not Use Dropout During Testing**\n",
    "- **Deterministic Behavior**: During testing, the goal is to get stable and accurate predictions. Dropout introduces randomness, which can lead to inconsistent outputs. For inference, we need the full network's capacity to ensure reliable predictions.\n",
    "- **Averaging Effect**: During testing, all neurons are active, but their weights are scaled by the dropout rate. This scaling ensures the predictions mimic the averaged behavior of the \"thinned\" networks from training. Without this adjustment, the outputs would be disproportionately large.\n",
    "\n",
    "---\n",
    "\n",
    "## 3. **Scaling During Testing**\n",
    "To make predictions consistent with the training phase:\n",
    "- During training, each neuron contributes only part of the time (e.g., 80% active if `dropout=0.2`).\n",
    "- During testing, all neurons are active, but their weights are multiplied by \\( (1 - \\text{dropout\\_rate}) \\).\n",
    "  - Example: If the dropout rate is 0.2, the active weights are scaled by 0.8.\n",
    "- This ensures the network's output during testing is comparable to its output during training with Dropout applied.\n",
    "\n",
    "---\n",
    "\n",
    "## 4. **Key Differences Between Training and Testing**\n",
    "| Phase      | Behavior of Dropout                | Purpose                                |\n",
    "|------------|------------------------------------|----------------------------------------|\n",
    "| **Training** | Randomly deactivates neurons       | Prevents overfitting by encouraging robustness. |\n",
    "| **Testing**  | All neurons active, weights scaled | Provides stable and reliable predictions.        |\n",
    "\n",
    "---\n",
    "\n",
    "## 5. **Why Dropout During Testing Would Be Problematic**\n",
    "- **Inconsistent Predictions**: Randomly deactivating neurons during testing would cause the network to give different outputs for the same input, making it unreliable.\n",
    "- **Reduced Capacity**: The network would function with reduced capacity, leading to suboptimal performance.\n",
    "- **Inference Stability**: For real-world applications like medical diagnostics or autonomous driving, consistent and deterministic predictions are critical.\n",
    "\n",
    "---\n",
    "\n",
    "## Summary\n",
    "Dropout is applied during training to enhance generalization by introducing randomness and forcing robustness. During testing, all neurons are used, but weights are scaled to reflect the training phase's effective neuron utilization, ensuring stable and accurate predictions.\n"
   ]
  },
  {
   "cell_type": "code",
   "execution_count": 1,
   "metadata": {},
   "outputs": [],
   "source": [
    "import tensorflow as tf\n",
    "import numpy as np\n",
    "import matplotlib.pyplot as plt\n",
    "from tensorflow.keras.models import Sequential\n",
    "from tensorflow.keras.layers import Dense\n",
    "from tensorflow.keras.layers import Dropout\n",
    "from tensorflow.keras.optimizers import Adam\n",
    "from sklearn.model_selection import train_test_split\n",
    "from sklearn.metrics import mean_squared_error"
   ]
  },
  {
   "cell_type": "markdown",
   "metadata": {},
   "source": [
    "# Generate Data"
   ]
  },
  {
   "cell_type": "code",
   "execution_count": 2,
   "metadata": {},
   "outputs": [],
   "source": [
    "X_train = np.linspace(-1, 1, 20)"
   ]
  },
  {
   "cell_type": "code",
   "execution_count": 3,
   "metadata": {},
   "outputs": [],
   "source": [
    "y_train = np.array([-0.6561 , -0.3099 , -0.59035, -0.50855, -0.285  , \n",
    "                    -0.2443 , -0.02445,  0.00135, -0.2006 ,  0.07475, \n",
    "                    -0.1422 ,  0.06515,  0.15265,  0.3521 ,  0.28415,  \n",
    "                    0.5524 ,  0.23115,  0.20835, 0.4211,  0.60485])"
   ]
  },
  {
   "cell_type": "code",
   "execution_count": 4,
   "metadata": {},
   "outputs": [],
   "source": [
    "X_test = np.linspace(-1, 1, 20)"
   ]
  },
  {
   "cell_type": "code",
   "execution_count": 5,
   "metadata": {},
   "outputs": [],
   "source": [
    "y_test = np.array([-0.69415, -0.451  , -0.43005, -0.4484 , -0.1475 ,\n",
    "                   -0.5019 , -0.28055,  0.24595, -0.21425, -0.0286 ,  \n",
    "                   0.23415,  0.46575, 0.07955,  0.1973 ,  0.0719 ,\n",
    "                   0.3639 ,  0.5536 ,  0.3365 , 0.50705,  0.33435])"
   ]
  },
  {
   "cell_type": "code",
   "execution_count": 6,
   "metadata": {},
   "outputs": [
    {
     "data": {
      "image/png": "[encoded data removed]",
      "text/plain": [
       "<Figure size 640x480 with 1 Axes>"
      ]
     },
     "metadata": {},
     "output_type": "display_data"
    }
   ],
   "source": [
    "plt.scatter(X_train, y_train, c='red', label='Train')\n",
    "plt.scatter(X_test, y_test, c='blue', label='Test')\n",
    "plt.legend()\n",
    "plt.show()"
   ]
  },
  {
   "cell_type": "markdown",
   "metadata": {},
   "source": [
    "# Regression Model"
   ]
  },
  {
   "cell_type": "code",
   "execution_count": 7,
   "metadata": {},
   "outputs": [
    {
     "name": "stderr",
     "output_type": "stream",
     "text": [
      "c:\\Users\\HP\\Deep-Learning-CampusX\\campus\\Lib\\site-packages\\keras\\src\\layers\\core\\dense.py:87: UserWarning: Do not pass an `input_shape`/`input_dim` argument to a layer. When using Sequential models, prefer using an `Input(shape)` object as the first layer in the model instead.\n",
      "  super().__init__(activity_regularizer=activity_regularizer, **kwargs)\n"
     ]
    }
   ],
   "source": [
    "model_1 = Sequential()\n",
    "model_1.add(Dense(128, input_dim=1, activation=\"relu\"))\n",
    "model_1.add(Dense(128, activation=\"relu\"))\n",
    "model_1.add(Dense(1, activation=\"linear\"))\n",
    "adam = Adam(learning_rate=0.01)\n",
    "model_1.compile(loss='mse', optimizer=adam, metrics=['mse'])\n",
    "history = model_1.fit(X_train, y_train, epochs=500, \n",
    "                    validation_data = (X_test, y_test),\n",
    "                    verbose=False)"
   ]
  },
  {
   "cell_type": "code",
   "execution_count": 8,
   "metadata": {},
   "outputs": [
    {
     "name": "stdout",
     "output_type": "stream",
     "text": [
      "Train: 0.004081315360963345, Test: 0.04644857347011566\n"
     ]
    }
   ],
   "source": [
    "# evaluate the model\n",
    "_, train_mse = model_1.evaluate(X_train, y_train, verbose=0)\n",
    "_, test_mse = model_1.evaluate(X_test, y_test, verbose=0)\n",
    "print('Train: {}, Test: {}'.format(train_mse, test_mse))"
   ]
  },
  {
   "cell_type": "code",
   "execution_count": 9,
   "metadata": {},
   "outputs": [
    {
     "name": "stdout",
     "output_type": "stream",
     "text": [
      "\u001b[1m1/1\u001b[0m \u001b[32m━━━━━━━━━━━━━━━━━━━━\u001b[0m\u001b[37m\u001b[0m \u001b[1m0s\u001b[0m 47ms/step\n"
     ]
    }
   ],
   "source": [
    "y_pred_1 = model_1.predict(X_test)"
   ]
  },
  {
   "cell_type": "code",
   "execution_count": 10,
   "metadata": {},
   "outputs": [
    {
     "data": {
      "image/png": "[encoded data removed]",
      "text/plain": [
       "<Figure size 640x480 with 1 Axes>"
      ]
     },
     "metadata": {},
     "output_type": "display_data"
    }
   ],
   "source": [
    "plt.figure()\n",
    "plt.scatter(X_train, y_train, c='red', label='Train')\n",
    "plt.scatter(X_test, y_test, c='blue', label='Test')\n",
    "plt.plot(X_test, y_pred_1)\n",
    "plt.legend()\n",
    "plt.ylim((-1.5, 1.5))\n",
    "plt.show()"
   ]
  },
  {
   "cell_type": "markdown",
   "metadata": {},
   "source": [
    "# Dropout Model"
   ]
  },
  {
   "cell_type": "code",
   "execution_count": 11,
   "metadata": {},
   "outputs": [],
   "source": [
    "model_2 = Sequential()\n",
    "model_2.add(Dense(128, input_dim=1, activation=\"relu\"))\n",
    "model_2.add(Dropout(0.2))\n",
    "model_2.add(Dense(128, activation=\"relu\"))\n",
    "model_2.add(Dropout(0.2))\n",
    "model_2.add(Dense(1, activation=\"linear\"))\n",
    "adam = Adam(learning_rate=0.01)\n",
    "model_2.compile(loss='mse', optimizer=adam, metrics=['mse'])\n",
    "\n",
    "drop_out_history = model_2.fit(X_train, y_train, epochs=500, \n",
    "                               validation_data = (X_test, y_test),\n",
    "                               verbose=False)"
   ]
  },
  {
   "cell_type": "code",
   "execution_count": 12,
   "metadata": {},
   "outputs": [
    {
     "name": "stdout",
     "output_type": "stream",
     "text": [
      "Train: 0.012487592175602913, Test: 0.04157492518424988\n"
     ]
    }
   ],
   "source": [
    "# evaluate the model\n",
    "_, train_mse = model_2.evaluate(X_train, y_train, verbose=0)\n",
    "_, test_mse = model_2.evaluate(X_test, y_test, verbose=0)\n",
    "print('Train: {}, Test: {}'.format(train_mse, test_mse))"
   ]
  },
  {
   "cell_type": "code",
   "execution_count": 13,
   "metadata": {},
   "outputs": [
    {
     "name": "stdout",
     "output_type": "stream",
     "text": [
      "\u001b[1m1/1\u001b[0m \u001b[32m━━━━━━━━━━━━━━━━━━━━\u001b[0m\u001b[37m\u001b[0m \u001b[1m0s\u001b[0m 46ms/step\n"
     ]
    }
   ],
   "source": [
    "y_pred_2 = model_2.predict(X_test)"
   ]
  },
  {
   "cell_type": "code",
   "execution_count": 14,
   "metadata": {},
   "outputs": [
    {
     "data": {
      "image/png": "[encoded data removed]",
      "text/plain": [
       "<Figure size 640x480 with 1 Axes>"
      ]
     },
     "metadata": {},
     "output_type": "display_data"
    }
   ],
   "source": [
    "plt.figure()\n",
    "plt.scatter(X_train, y_train, c='red', label='Train')\n",
    "plt.scatter(X_test, y_test, c='blue', label='Test')\n",
    "plt.plot(X_test, y_pred_2)\n",
    "plt.legend()\n",
    "plt.ylim((-1.5, 1.5))\n",
    "plt.show()"
   ]
  },
  {
   "cell_type": "code",
   "execution_count": null,
   "metadata": {},
   "outputs": [],
   "source": []
  }
 ],
 "metadata": {
  "kernelspec": {
   "display_name": "Python 3",
   "language": "python",
   "name": "python3"
  },
  "language_info": {
   "codemirror_mode": {
    "name": "ipython",
    "version": 3
   },
   "file_extension": ".py",
   "mimetype": "text/x-python",
   "name": "python",
   "nbconvert_exporter": "python",
   "pygments_lexer": "ipython3",
   "version": "3.11.0"
  }
 },
 "nbformat": 4,
 "nbformat_minor": 2
}
