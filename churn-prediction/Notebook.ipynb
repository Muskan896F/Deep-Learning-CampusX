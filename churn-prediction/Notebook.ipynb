{
 "cells": [
  {
   "cell_type": "code",
   "execution_count": 1,
   "metadata": {},
   "outputs": [],
   "source": [
    "import numpy as np\n",
    "import pandas as pd "
   ]
  },
  {
   "cell_type": "code",
   "execution_count": 2,
   "metadata": {},
   "outputs": [
    {
     "data": {
      "text/html": [
       "<div>\n",
       "<style scoped>\n",
       "    .dataframe tbody tr th:only-of-type {\n",
       "        vertical-align: middle;\n",
       "    }\n",
       "\n",
       "    .dataframe tbody tr th {\n",
       "        vertical-align: top;\n",
       "    }\n",
       "\n",
       "    .dataframe thead th {\n",
       "        text-align: right;\n",
       "    }\n",
       "</style>\n",
       "<table border=\"1\" class=\"dataframe\">\n",
       "  <thead>\n",
       "    <tr style=\"text-align: right;\">\n",
       "      <th></th>\n",
       "      <th>RowNumber</th>\n",
       "      <th>CustomerId</th>\n",
       "      <th>Surname</th>\n",
       "      <th>CreditScore</th>\n",
       "      <th>Geography</th>\n",
       "      <th>Gender</th>\n",
       "      <th>Age</th>\n",
       "      <th>Tenure</th>\n",
       "      <th>Balance</th>\n",
       "      <th>NumOfProducts</th>\n",
       "      <th>HasCrCard</th>\n",
       "      <th>IsActiveMember</th>\n",
       "      <th>EstimatedSalary</th>\n",
       "      <th>Exited</th>\n",
       "    </tr>\n",
       "  </thead>\n",
       "  <tbody>\n",
       "    <tr>\n",
       "      <th>0</th>\n",
       "      <td>1</td>\n",
       "      <td>15634602</td>\n",
       "      <td>Hargrave</td>\n",
       "      <td>619</td>\n",
       "      <td>France</td>\n",
       "      <td>Female</td>\n",
       "      <td>42</td>\n",
       "      <td>2</td>\n",
       "      <td>0.00</td>\n",
       "      <td>1</td>\n",
       "      <td>1</td>\n",
       "      <td>1</td>\n",
       "      <td>101348.88</td>\n",
       "      <td>1</td>\n",
       "    </tr>\n",
       "    <tr>\n",
       "      <th>1</th>\n",
       "      <td>2</td>\n",
       "      <td>15647311</td>\n",
       "      <td>Hill</td>\n",
       "      <td>608</td>\n",
       "      <td>Spain</td>\n",
       "      <td>Female</td>\n",
       "      <td>41</td>\n",
       "      <td>1</td>\n",
       "      <td>83807.86</td>\n",
       "      <td>1</td>\n",
       "      <td>0</td>\n",
       "      <td>1</td>\n",
       "      <td>112542.58</td>\n",
       "      <td>0</td>\n",
       "    </tr>\n",
       "    <tr>\n",
       "      <th>2</th>\n",
       "      <td>3</td>\n",
       "      <td>15619304</td>\n",
       "      <td>Onio</td>\n",
       "      <td>502</td>\n",
       "      <td>France</td>\n",
       "      <td>Female</td>\n",
       "      <td>42</td>\n",
       "      <td>8</td>\n",
       "      <td>159660.80</td>\n",
       "      <td>3</td>\n",
       "      <td>1</td>\n",
       "      <td>0</td>\n",
       "      <td>113931.57</td>\n",
       "      <td>1</td>\n",
       "    </tr>\n",
       "    <tr>\n",
       "      <th>3</th>\n",
       "      <td>4</td>\n",
       "      <td>15701354</td>\n",
       "      <td>Boni</td>\n",
       "      <td>699</td>\n",
       "      <td>France</td>\n",
       "      <td>Female</td>\n",
       "      <td>39</td>\n",
       "      <td>1</td>\n",
       "      <td>0.00</td>\n",
       "      <td>2</td>\n",
       "      <td>0</td>\n",
       "      <td>0</td>\n",
       "      <td>93826.63</td>\n",
       "      <td>0</td>\n",
       "    </tr>\n",
       "    <tr>\n",
       "      <th>4</th>\n",
       "      <td>5</td>\n",
       "      <td>15737888</td>\n",
       "      <td>Mitchell</td>\n",
       "      <td>850</td>\n",
       "      <td>Spain</td>\n",
       "      <td>Female</td>\n",
       "      <td>43</td>\n",
       "      <td>2</td>\n",
       "      <td>125510.82</td>\n",
       "      <td>1</td>\n",
       "      <td>1</td>\n",
       "      <td>1</td>\n",
       "      <td>79084.10</td>\n",
       "      <td>0</td>\n",
       "    </tr>\n",
       "  </tbody>\n",
       "</table>\n",
       "</div>"
      ],
      "text/plain": [
       "   RowNumber  CustomerId   Surname  CreditScore Geography  Gender  Age  \\\n",
       "0          1    15634602  Hargrave          619    France  Female   42   \n",
       "1          2    15647311      Hill          608     Spain  Female   41   \n",
       "2          3    15619304      Onio          502    France  Female   42   \n",
       "3          4    15701354      Boni          699    France  Female   39   \n",
       "4          5    15737888  Mitchell          850     Spain  Female   43   \n",
       "\n",
       "   Tenure    Balance  NumOfProducts  HasCrCard  IsActiveMember  \\\n",
       "0       2       0.00              1          1               1   \n",
       "1       1   83807.86              1          0               1   \n",
       "2       8  159660.80              3          1               0   \n",
       "3       1       0.00              2          0               0   \n",
       "4       2  125510.82              1          1               1   \n",
       "\n",
       "   EstimatedSalary  Exited  \n",
       "0        101348.88       1  \n",
       "1        112542.58       0  \n",
       "2        113931.57       1  \n",
       "3         93826.63       0  \n",
       "4         79084.10       0  "
      ]
     },
     "execution_count": 2,
     "metadata": {},
     "output_type": "execute_result"
    }
   ],
   "source": [
    "df = pd.read_csv(\"Churn_Modelling.csv\")\n",
    "df.head()"
   ]
  },
  {
   "cell_type": "code",
   "execution_count": 3,
   "metadata": {},
   "outputs": [
    {
     "name": "stdout",
     "output_type": "stream",
     "text": [
      "<class 'pandas.core.frame.DataFrame'>\n",
      "RangeIndex: 10000 entries, 0 to 9999\n",
      "Data columns (total 14 columns):\n",
      " #   Column           Non-Null Count  Dtype  \n",
      "---  ------           --------------  -----  \n",
      " 0   RowNumber        10000 non-null  int64  \n",
      " 1   CustomerId       10000 non-null  int64  \n",
      " 2   Surname          10000 non-null  object \n",
      " 3   CreditScore      10000 non-null  int64  \n",
      " 4   Geography        10000 non-null  object \n",
      " 5   Gender           10000 non-null  object \n",
      " 6   Age              10000 non-null  int64  \n",
      " 7   Tenure           10000 non-null  int64  \n",
      " 8   Balance          10000 non-null  float64\n",
      " 9   NumOfProducts    10000 non-null  int64  \n",
      " 10  HasCrCard        10000 non-null  int64  \n",
      " 11  IsActiveMember   10000 non-null  int64  \n",
      " 12  EstimatedSalary  10000 non-null  float64\n",
      " 13  Exited           10000 non-null  int64  \n",
      "dtypes: float64(2), int64(9), object(3)\n",
      "memory usage: 1.1+ MB\n"
     ]
    }
   ],
   "source": [
    "df.info()"
   ]
  },
  {
   "cell_type": "code",
   "execution_count": 4,
   "metadata": {},
   "outputs": [
    {
     "data": {
      "text/plain": [
       "np.int64(0)"
      ]
     },
     "execution_count": 4,
     "metadata": {},
     "output_type": "execute_result"
    }
   ],
   "source": [
    "df.duplicated().sum()"
   ]
  },
  {
   "cell_type": "code",
   "execution_count": 5,
   "metadata": {},
   "outputs": [
    {
     "data": {
      "text/plain": [
       "Exited\n",
       "0    7963\n",
       "1    2037\n",
       "Name: count, dtype: int64"
      ]
     },
     "execution_count": 5,
     "metadata": {},
     "output_type": "execute_result"
    }
   ],
   "source": [
    "df['Exited'].value_counts()"
   ]
  },
  {
   "cell_type": "code",
   "execution_count": 6,
   "metadata": {},
   "outputs": [
    {
     "data": {
      "text/plain": [
       "Geography\n",
       "France     5014\n",
       "Germany    2509\n",
       "Spain      2477\n",
       "Name: count, dtype: int64"
      ]
     },
     "execution_count": 6,
     "metadata": {},
     "output_type": "execute_result"
    }
   ],
   "source": [
    "df['Geography'].value_counts()"
   ]
  },
  {
   "cell_type": "code",
   "execution_count": 7,
   "metadata": {},
   "outputs": [
    {
     "data": {
      "text/plain": [
       "Gender\n",
       "Male      5457\n",
       "Female    4543\n",
       "Name: count, dtype: int64"
      ]
     },
     "execution_count": 7,
     "metadata": {},
     "output_type": "execute_result"
    }
   ],
   "source": [
    "df['Gender'].value_counts()"
   ]
  },
  {
   "cell_type": "code",
   "execution_count": 8,
   "metadata": {},
   "outputs": [],
   "source": [
    "df.drop(columns=['RowNumber','CustomerId','Surname'],inplace=True)"
   ]
  },
  {
   "cell_type": "code",
   "execution_count": 9,
   "metadata": {},
   "outputs": [
    {
     "data": {
      "text/html": [
       "<div>\n",
       "<style scoped>\n",
       "    .dataframe tbody tr th:only-of-type {\n",
       "        vertical-align: middle;\n",
       "    }\n",
       "\n",
       "    .dataframe tbody tr th {\n",
       "        vertical-align: top;\n",
       "    }\n",
       "\n",
       "    .dataframe thead th {\n",
       "        text-align: right;\n",
       "    }\n",
       "</style>\n",
       "<table border=\"1\" class=\"dataframe\">\n",
       "  <thead>\n",
       "    <tr style=\"text-align: right;\">\n",
       "      <th></th>\n",
       "      <th>CreditScore</th>\n",
       "      <th>Geography</th>\n",
       "      <th>Gender</th>\n",
       "      <th>Age</th>\n",
       "      <th>Tenure</th>\n",
       "      <th>Balance</th>\n",
       "      <th>NumOfProducts</th>\n",
       "      <th>HasCrCard</th>\n",
       "      <th>IsActiveMember</th>\n",
       "      <th>EstimatedSalary</th>\n",
       "      <th>Exited</th>\n",
       "    </tr>\n",
       "  </thead>\n",
       "  <tbody>\n",
       "    <tr>\n",
       "      <th>0</th>\n",
       "      <td>619</td>\n",
       "      <td>France</td>\n",
       "      <td>Female</td>\n",
       "      <td>42</td>\n",
       "      <td>2</td>\n",
       "      <td>0.00</td>\n",
       "      <td>1</td>\n",
       "      <td>1</td>\n",
       "      <td>1</td>\n",
       "      <td>101348.88</td>\n",
       "      <td>1</td>\n",
       "    </tr>\n",
       "    <tr>\n",
       "      <th>1</th>\n",
       "      <td>608</td>\n",
       "      <td>Spain</td>\n",
       "      <td>Female</td>\n",
       "      <td>41</td>\n",
       "      <td>1</td>\n",
       "      <td>83807.86</td>\n",
       "      <td>1</td>\n",
       "      <td>0</td>\n",
       "      <td>1</td>\n",
       "      <td>112542.58</td>\n",
       "      <td>0</td>\n",
       "    </tr>\n",
       "    <tr>\n",
       "      <th>2</th>\n",
       "      <td>502</td>\n",
       "      <td>France</td>\n",
       "      <td>Female</td>\n",
       "      <td>42</td>\n",
       "      <td>8</td>\n",
       "      <td>159660.80</td>\n",
       "      <td>3</td>\n",
       "      <td>1</td>\n",
       "      <td>0</td>\n",
       "      <td>113931.57</td>\n",
       "      <td>1</td>\n",
       "    </tr>\n",
       "    <tr>\n",
       "      <th>3</th>\n",
       "      <td>699</td>\n",
       "      <td>France</td>\n",
       "      <td>Female</td>\n",
       "      <td>39</td>\n",
       "      <td>1</td>\n",
       "      <td>0.00</td>\n",
       "      <td>2</td>\n",
       "      <td>0</td>\n",
       "      <td>0</td>\n",
       "      <td>93826.63</td>\n",
       "      <td>0</td>\n",
       "    </tr>\n",
       "    <tr>\n",
       "      <th>4</th>\n",
       "      <td>850</td>\n",
       "      <td>Spain</td>\n",
       "      <td>Female</td>\n",
       "      <td>43</td>\n",
       "      <td>2</td>\n",
       "      <td>125510.82</td>\n",
       "      <td>1</td>\n",
       "      <td>1</td>\n",
       "      <td>1</td>\n",
       "      <td>79084.10</td>\n",
       "      <td>0</td>\n",
       "    </tr>\n",
       "  </tbody>\n",
       "</table>\n",
       "</div>"
      ],
      "text/plain": [
       "   CreditScore Geography  Gender  Age  Tenure    Balance  NumOfProducts  \\\n",
       "0          619    France  Female   42       2       0.00              1   \n",
       "1          608     Spain  Female   41       1   83807.86              1   \n",
       "2          502    France  Female   42       8  159660.80              3   \n",
       "3          699    France  Female   39       1       0.00              2   \n",
       "4          850     Spain  Female   43       2  125510.82              1   \n",
       "\n",
       "   HasCrCard  IsActiveMember  EstimatedSalary  Exited  \n",
       "0          1               1        101348.88       1  \n",
       "1          0               1        112542.58       0  \n",
       "2          1               0        113931.57       1  \n",
       "3          0               0         93826.63       0  \n",
       "4          1               1         79084.10       0  "
      ]
     },
     "execution_count": 9,
     "metadata": {},
     "output_type": "execute_result"
    }
   ],
   "source": [
    "df.head()"
   ]
  },
  {
   "cell_type": "code",
   "execution_count": 10,
   "metadata": {},
   "outputs": [],
   "source": [
    "df = pd.get_dummies(df,columns=['Geography','Gender'],drop_first=True).astype(int)"
   ]
  },
  {
   "cell_type": "code",
   "execution_count": 11,
   "metadata": {},
   "outputs": [
    {
     "data": {
      "text/html": [
       "<div>\n",
       "<style scoped>\n",
       "    .dataframe tbody tr th:only-of-type {\n",
       "        vertical-align: middle;\n",
       "    }\n",
       "\n",
       "    .dataframe tbody tr th {\n",
       "        vertical-align: top;\n",
       "    }\n",
       "\n",
       "    .dataframe thead th {\n",
       "        text-align: right;\n",
       "    }\n",
       "</style>\n",
       "<table border=\"1\" class=\"dataframe\">\n",
       "  <thead>\n",
       "    <tr style=\"text-align: right;\">\n",
       "      <th></th>\n",
       "      <th>CreditScore</th>\n",
       "      <th>Age</th>\n",
       "      <th>Tenure</th>\n",
       "      <th>Balance</th>\n",
       "      <th>NumOfProducts</th>\n",
       "      <th>HasCrCard</th>\n",
       "      <th>IsActiveMember</th>\n",
       "      <th>EstimatedSalary</th>\n",
       "      <th>Exited</th>\n",
       "      <th>Geography_Germany</th>\n",
       "      <th>Geography_Spain</th>\n",
       "      <th>Gender_Male</th>\n",
       "    </tr>\n",
       "  </thead>\n",
       "  <tbody>\n",
       "    <tr>\n",
       "      <th>0</th>\n",
       "      <td>619</td>\n",
       "      <td>42</td>\n",
       "      <td>2</td>\n",
       "      <td>0</td>\n",
       "      <td>1</td>\n",
       "      <td>1</td>\n",
       "      <td>1</td>\n",
       "      <td>101348</td>\n",
       "      <td>1</td>\n",
       "      <td>0</td>\n",
       "      <td>0</td>\n",
       "      <td>0</td>\n",
       "    </tr>\n",
       "    <tr>\n",
       "      <th>1</th>\n",
       "      <td>608</td>\n",
       "      <td>41</td>\n",
       "      <td>1</td>\n",
       "      <td>83807</td>\n",
       "      <td>1</td>\n",
       "      <td>0</td>\n",
       "      <td>1</td>\n",
       "      <td>112542</td>\n",
       "      <td>0</td>\n",
       "      <td>0</td>\n",
       "      <td>1</td>\n",
       "      <td>0</td>\n",
       "    </tr>\n",
       "    <tr>\n",
       "      <th>2</th>\n",
       "      <td>502</td>\n",
       "      <td>42</td>\n",
       "      <td>8</td>\n",
       "      <td>159660</td>\n",
       "      <td>3</td>\n",
       "      <td>1</td>\n",
       "      <td>0</td>\n",
       "      <td>113931</td>\n",
       "      <td>1</td>\n",
       "      <td>0</td>\n",
       "      <td>0</td>\n",
       "      <td>0</td>\n",
       "    </tr>\n",
       "    <tr>\n",
       "      <th>3</th>\n",
       "      <td>699</td>\n",
       "      <td>39</td>\n",
       "      <td>1</td>\n",
       "      <td>0</td>\n",
       "      <td>2</td>\n",
       "      <td>0</td>\n",
       "      <td>0</td>\n",
       "      <td>93826</td>\n",
       "      <td>0</td>\n",
       "      <td>0</td>\n",
       "      <td>0</td>\n",
       "      <td>0</td>\n",
       "    </tr>\n",
       "    <tr>\n",
       "      <th>4</th>\n",
       "      <td>850</td>\n",
       "      <td>43</td>\n",
       "      <td>2</td>\n",
       "      <td>125510</td>\n",
       "      <td>1</td>\n",
       "      <td>1</td>\n",
       "      <td>1</td>\n",
       "      <td>79084</td>\n",
       "      <td>0</td>\n",
       "      <td>0</td>\n",
       "      <td>1</td>\n",
       "      <td>0</td>\n",
       "    </tr>\n",
       "  </tbody>\n",
       "</table>\n",
       "</div>"
      ],
      "text/plain": [
       "   CreditScore  Age  Tenure  Balance  NumOfProducts  HasCrCard  \\\n",
       "0          619   42       2        0              1          1   \n",
       "1          608   41       1    83807              1          0   \n",
       "2          502   42       8   159660              3          1   \n",
       "3          699   39       1        0              2          0   \n",
       "4          850   43       2   125510              1          1   \n",
       "\n",
       "   IsActiveMember  EstimatedSalary  Exited  Geography_Germany  \\\n",
       "0               1           101348       1                  0   \n",
       "1               1           112542       0                  0   \n",
       "2               0           113931       1                  0   \n",
       "3               0            93826       0                  0   \n",
       "4               1            79084       0                  0   \n",
       "\n",
       "   Geography_Spain  Gender_Male  \n",
       "0                0            0  \n",
       "1                1            0  \n",
       "2                0            0  \n",
       "3                0            0  \n",
       "4                1            0  "
      ]
     },
     "execution_count": 11,
     "metadata": {},
     "output_type": "execute_result"
    }
   ],
   "source": [
    "df.head()"
   ]
  },
  {
   "cell_type": "code",
   "execution_count": 12,
   "metadata": {},
   "outputs": [
    {
     "data": {
      "text/plain": [
       "CreditScore          int64\n",
       "Age                  int64\n",
       "Tenure               int64\n",
       "Balance              int64\n",
       "NumOfProducts        int64\n",
       "HasCrCard            int64\n",
       "IsActiveMember       int64\n",
       "EstimatedSalary      int64\n",
       "Exited               int64\n",
       "Geography_Germany    int64\n",
       "Geography_Spain      int64\n",
       "Gender_Male          int64\n",
       "dtype: object"
      ]
     },
     "execution_count": 12,
     "metadata": {},
     "output_type": "execute_result"
    }
   ],
   "source": [
    "df.dtypes"
   ]
  },
  {
   "cell_type": "code",
   "execution_count": 13,
   "metadata": {},
   "outputs": [],
   "source": [
    "X = df.drop(columns=['Exited'])\n",
    "y = df['Exited']"
   ]
  },
  {
   "cell_type": "code",
   "execution_count": 14,
   "metadata": {},
   "outputs": [],
   "source": [
    "from sklearn.model_selection import train_test_split\n",
    "X_train,X_test,y_train,y_test = train_test_split(X,y,test_size=0.2,random_state=1)"
   ]
  },
  {
   "cell_type": "code",
   "execution_count": 15,
   "metadata": {},
   "outputs": [
    {
     "data": {
      "text/html": [
       "<div>\n",
       "<style scoped>\n",
       "    .dataframe tbody tr th:only-of-type {\n",
       "        vertical-align: middle;\n",
       "    }\n",
       "\n",
       "    .dataframe tbody tr th {\n",
       "        vertical-align: top;\n",
       "    }\n",
       "\n",
       "    .dataframe thead th {\n",
       "        text-align: right;\n",
       "    }\n",
       "</style>\n",
       "<table border=\"1\" class=\"dataframe\">\n",
       "  <thead>\n",
       "    <tr style=\"text-align: right;\">\n",
       "      <th></th>\n",
       "      <th>CreditScore</th>\n",
       "      <th>Age</th>\n",
       "      <th>Tenure</th>\n",
       "      <th>Balance</th>\n",
       "      <th>NumOfProducts</th>\n",
       "      <th>HasCrCard</th>\n",
       "      <th>IsActiveMember</th>\n",
       "      <th>EstimatedSalary</th>\n",
       "      <th>Geography_Germany</th>\n",
       "      <th>Geography_Spain</th>\n",
       "      <th>Gender_Male</th>\n",
       "    </tr>\n",
       "  </thead>\n",
       "  <tbody>\n",
       "    <tr>\n",
       "      <th>2694</th>\n",
       "      <td>628</td>\n",
       "      <td>29</td>\n",
       "      <td>3</td>\n",
       "      <td>113146</td>\n",
       "      <td>2</td>\n",
       "      <td>0</td>\n",
       "      <td>1</td>\n",
       "      <td>124749</td>\n",
       "      <td>1</td>\n",
       "      <td>0</td>\n",
       "      <td>1</td>\n",
       "    </tr>\n",
       "    <tr>\n",
       "      <th>5140</th>\n",
       "      <td>626</td>\n",
       "      <td>29</td>\n",
       "      <td>4</td>\n",
       "      <td>105767</td>\n",
       "      <td>2</td>\n",
       "      <td>0</td>\n",
       "      <td>0</td>\n",
       "      <td>41104</td>\n",
       "      <td>0</td>\n",
       "      <td>0</td>\n",
       "      <td>0</td>\n",
       "    </tr>\n",
       "    <tr>\n",
       "      <th>2568</th>\n",
       "      <td>612</td>\n",
       "      <td>47</td>\n",
       "      <td>6</td>\n",
       "      <td>130024</td>\n",
       "      <td>1</td>\n",
       "      <td>1</td>\n",
       "      <td>1</td>\n",
       "      <td>45750</td>\n",
       "      <td>1</td>\n",
       "      <td>0</td>\n",
       "      <td>0</td>\n",
       "    </tr>\n",
       "    <tr>\n",
       "      <th>3671</th>\n",
       "      <td>646</td>\n",
       "      <td>52</td>\n",
       "      <td>6</td>\n",
       "      <td>111739</td>\n",
       "      <td>2</td>\n",
       "      <td>0</td>\n",
       "      <td>1</td>\n",
       "      <td>68367</td>\n",
       "      <td>1</td>\n",
       "      <td>0</td>\n",
       "      <td>0</td>\n",
       "    </tr>\n",
       "    <tr>\n",
       "      <th>7427</th>\n",
       "      <td>714</td>\n",
       "      <td>33</td>\n",
       "      <td>8</td>\n",
       "      <td>122017</td>\n",
       "      <td>1</td>\n",
       "      <td>0</td>\n",
       "      <td>0</td>\n",
       "      <td>162515</td>\n",
       "      <td>0</td>\n",
       "      <td>1</td>\n",
       "      <td>1</td>\n",
       "    </tr>\n",
       "    <tr>\n",
       "      <th>...</th>\n",
       "      <td>...</td>\n",
       "      <td>...</td>\n",
       "      <td>...</td>\n",
       "      <td>...</td>\n",
       "      <td>...</td>\n",
       "      <td>...</td>\n",
       "      <td>...</td>\n",
       "      <td>...</td>\n",
       "      <td>...</td>\n",
       "      <td>...</td>\n",
       "      <td>...</td>\n",
       "    </tr>\n",
       "    <tr>\n",
       "      <th>2895</th>\n",
       "      <td>621</td>\n",
       "      <td>47</td>\n",
       "      <td>7</td>\n",
       "      <td>107363</td>\n",
       "      <td>1</td>\n",
       "      <td>1</td>\n",
       "      <td>1</td>\n",
       "      <td>66799</td>\n",
       "      <td>1</td>\n",
       "      <td>0</td>\n",
       "      <td>1</td>\n",
       "    </tr>\n",
       "    <tr>\n",
       "      <th>7813</th>\n",
       "      <td>684</td>\n",
       "      <td>63</td>\n",
       "      <td>3</td>\n",
       "      <td>81245</td>\n",
       "      <td>1</td>\n",
       "      <td>1</td>\n",
       "      <td>0</td>\n",
       "      <td>69643</td>\n",
       "      <td>1</td>\n",
       "      <td>0</td>\n",
       "      <td>0</td>\n",
       "    </tr>\n",
       "    <tr>\n",
       "      <th>905</th>\n",
       "      <td>672</td>\n",
       "      <td>45</td>\n",
       "      <td>9</td>\n",
       "      <td>0</td>\n",
       "      <td>1</td>\n",
       "      <td>1</td>\n",
       "      <td>1</td>\n",
       "      <td>92027</td>\n",
       "      <td>0</td>\n",
       "      <td>0</td>\n",
       "      <td>0</td>\n",
       "    </tr>\n",
       "    <tr>\n",
       "      <th>5192</th>\n",
       "      <td>663</td>\n",
       "      <td>39</td>\n",
       "      <td>8</td>\n",
       "      <td>0</td>\n",
       "      <td>2</td>\n",
       "      <td>1</td>\n",
       "      <td>1</td>\n",
       "      <td>101168</td>\n",
       "      <td>0</td>\n",
       "      <td>0</td>\n",
       "      <td>0</td>\n",
       "    </tr>\n",
       "    <tr>\n",
       "      <th>235</th>\n",
       "      <td>763</td>\n",
       "      <td>42</td>\n",
       "      <td>6</td>\n",
       "      <td>100160</td>\n",
       "      <td>1</td>\n",
       "      <td>1</td>\n",
       "      <td>0</td>\n",
       "      <td>33462</td>\n",
       "      <td>1</td>\n",
       "      <td>0</td>\n",
       "      <td>1</td>\n",
       "    </tr>\n",
       "  </tbody>\n",
       "</table>\n",
       "<p>8000 rows × 11 columns</p>\n",
       "</div>"
      ],
      "text/plain": [
       "      CreditScore  Age  Tenure  Balance  NumOfProducts  HasCrCard  \\\n",
       "2694          628   29       3   113146              2          0   \n",
       "5140          626   29       4   105767              2          0   \n",
       "2568          612   47       6   130024              1          1   \n",
       "3671          646   52       6   111739              2          0   \n",
       "7427          714   33       8   122017              1          0   \n",
       "...           ...  ...     ...      ...            ...        ...   \n",
       "2895          621   47       7   107363              1          1   \n",
       "7813          684   63       3    81245              1          1   \n",
       "905           672   45       9        0              1          1   \n",
       "5192          663   39       8        0              2          1   \n",
       "235           763   42       6   100160              1          1   \n",
       "\n",
       "      IsActiveMember  EstimatedSalary  Geography_Germany  Geography_Spain  \\\n",
       "2694               1           124749                  1                0   \n",
       "5140               0            41104                  0                0   \n",
       "2568               1            45750                  1                0   \n",
       "3671               1            68367                  1                0   \n",
       "7427               0           162515                  0                1   \n",
       "...              ...              ...                ...              ...   \n",
       "2895               1            66799                  1                0   \n",
       "7813               0            69643                  1                0   \n",
       "905                1            92027                  0                0   \n",
       "5192               1           101168                  0                0   \n",
       "235                0            33462                  1                0   \n",
       "\n",
       "      Gender_Male  \n",
       "2694            1  \n",
       "5140            0  \n",
       "2568            0  \n",
       "3671            0  \n",
       "7427            1  \n",
       "...           ...  \n",
       "2895            1  \n",
       "7813            0  \n",
       "905             0  \n",
       "5192            0  \n",
       "235             1  \n",
       "\n",
       "[8000 rows x 11 columns]"
      ]
     },
     "execution_count": 15,
     "metadata": {},
     "output_type": "execute_result"
    }
   ],
   "source": [
    "X_train"
   ]
  },
  {
   "cell_type": "code",
   "execution_count": 16,
   "metadata": {},
   "outputs": [
    {
     "data": {
      "text/plain": [
       "2694    0\n",
       "5140    0\n",
       "2568    1\n",
       "3671    0\n",
       "7427    0\n",
       "       ..\n",
       "2895    0\n",
       "7813    1\n",
       "905     1\n",
       "5192    0\n",
       "235     1\n",
       "Name: Exited, Length: 8000, dtype: int64"
      ]
     },
     "execution_count": 16,
     "metadata": {},
     "output_type": "execute_result"
    }
   ],
   "source": [
    "y_train"
   ]
  },
  {
   "cell_type": "code",
   "execution_count": 17,
   "metadata": {},
   "outputs": [],
   "source": [
    "from sklearn.preprocessing import StandardScaler\n",
    "scaler  = StandardScaler()\n",
    "\n",
    "X_train_scaled = scaler.fit_transform(X_train)\n",
    "X_test_scaled = scaler.fit_transform(X_test)"
   ]
  },
  {
   "cell_type": "code",
   "execution_count": 18,
   "metadata": {},
   "outputs": [],
   "source": [
    "import tensorboard\n",
    "import keras\n",
    "from tensorflow import keras\n",
    "from tensorflow.keras import Sequential\n",
    "from tensorflow.keras.layers import Dense"
   ]
  },
  {
   "cell_type": "code",
   "execution_count": 19,
   "metadata": {},
   "outputs": [
    {
     "name": "stderr",
     "output_type": "stream",
     "text": [
      "c:\\Users\\HP\\Deep-Learning-CampusX\\campus\\Lib\\site-packages\\keras\\src\\layers\\core\\dense.py:87: UserWarning: Do not pass an `input_shape`/`input_dim` argument to a layer. When using Sequential models, prefer using an `Input(shape)` object as the first layer in the model instead.\n",
      "  super().__init__(activity_regularizer=activity_regularizer, **kwargs)\n"
     ]
    }
   ],
   "source": [
    "model = Sequential()\n",
    "model.add(Dense(11, activation='relu', input_dim=11))\n",
    "model.add(Dense(11, activation='relu'))\n",
    "model.add(Dense(1, activation='sigmoid'))"
   ]
  },
  {
   "cell_type": "markdown",
   "metadata": {},
   "source": [
    "This code defines a simple neural network with three layers:\n",
    "\n",
    "* **Input Layer:**\n",
    "  * Takes 11 input features.\n",
    "* **First Hidden Layer:**\n",
    "  * Contains 11 neurons.\n",
    "  * Uses the ReLU activation function.\n",
    "* **Second Hidden Layer:**\n",
    "  * Contains 11 neurons.\n",
    "  * Uses the ReLU activation function.\n",
    "* **Output Layer:**\n",
    "  * Contains 1 neuron.\n",
    "  * Uses the sigmoid activation function."
   ]
  },
  {
   "cell_type": "code",
   "execution_count": 20,
   "metadata": {},
   "outputs": [
    {
     "data": {
      "text/html": [
       "<pre style=\"white-space:pre;overflow-x:auto;line-height:normal;font-family:Menlo,'DejaVu Sans Mono',consolas,'Courier New',monospace\"><span style=\"font-weight: bold\">Model: \"sequential\"</span>\n",
       "</pre>\n"
      ],
      "text/plain": [
       "\u001b[1mModel: \"sequential\"\u001b[0m\n"
      ]
     },
     "metadata": {},
     "output_type": "display_data"
    },
    {
     "data": {
      "text/html": [
       "<pre style=\"white-space:pre;overflow-x:auto;line-height:normal;font-family:Menlo,'DejaVu Sans Mono',consolas,'Courier New',monospace\">┏━━━━━━━━━━━━━━━━━━━━━━━━━━━━━━━━━┳━━━━━━━━━━━━━━━━━━━━━━━━┳━━━━━━━━━━━━━━━┓\n",
       "┃<span style=\"font-weight: bold\"> Layer (type)                    </span>┃<span style=\"font-weight: bold\"> Output Shape           </span>┃<span style=\"font-weight: bold\">       Param # </span>┃\n",
       "┡━━━━━━━━━━━━━━━━━━━━━━━━━━━━━━━━━╇━━━━━━━━━━━━━━━━━━━━━━━━╇━━━━━━━━━━━━━━━┩\n",
       "│ dense (<span style=\"color: #0087ff; text-decoration-color: #0087ff\">Dense</span>)                   │ (<span style=\"color: #00d7ff; text-decoration-color: #00d7ff\">None</span>, <span style=\"color: #00af00; text-decoration-color: #00af00\">11</span>)             │           <span style=\"color: #00af00; text-decoration-color: #00af00\">132</span> │\n",
       "├─────────────────────────────────┼────────────────────────┼───────────────┤\n",
       "│ dense_1 (<span style=\"color: #0087ff; text-decoration-color: #0087ff\">Dense</span>)                 │ (<span style=\"color: #00d7ff; text-decoration-color: #00d7ff\">None</span>, <span style=\"color: #00af00; text-decoration-color: #00af00\">11</span>)             │           <span style=\"color: #00af00; text-decoration-color: #00af00\">132</span> │\n",
       "├─────────────────────────────────┼────────────────────────┼───────────────┤\n",
       "│ dense_2 (<span style=\"color: #0087ff; text-decoration-color: #0087ff\">Dense</span>)                 │ (<span style=\"color: #00d7ff; text-decoration-color: #00d7ff\">None</span>, <span style=\"color: #00af00; text-decoration-color: #00af00\">1</span>)              │            <span style=\"color: #00af00; text-decoration-color: #00af00\">12</span> │\n",
       "└─────────────────────────────────┴────────────────────────┴───────────────┘\n",
       "</pre>\n"
      ],
      "text/plain": [
       "┏━━━━━━━━━━━━━━━━━━━━━━━━━━━━━━━━━┳━━━━━━━━━━━━━━━━━━━━━━━━┳━━━━━━━━━━━━━━━┓\n",
       "┃\u001b[1m \u001b[0m\u001b[1mLayer (type)                   \u001b[0m\u001b[1m \u001b[0m┃\u001b[1m \u001b[0m\u001b[1mOutput Shape          \u001b[0m\u001b[1m \u001b[0m┃\u001b[1m \u001b[0m\u001b[1m      Param #\u001b[0m\u001b[1m \u001b[0m┃\n",
       "┡━━━━━━━━━━━━━━━━━━━━━━━━━━━━━━━━━╇━━━━━━━━━━━━━━━━━━━━━━━━╇━━━━━━━━━━━━━━━┩\n",
       "│ dense (\u001b[38;5;33mDense\u001b[0m)                   │ (\u001b[38;5;45mNone\u001b[0m, \u001b[38;5;34m11\u001b[0m)             │           \u001b[38;5;34m132\u001b[0m │\n",
       "├─────────────────────────────────┼────────────────────────┼───────────────┤\n",
       "│ dense_1 (\u001b[38;5;33mDense\u001b[0m)                 │ (\u001b[38;5;45mNone\u001b[0m, \u001b[38;5;34m11\u001b[0m)             │           \u001b[38;5;34m132\u001b[0m │\n",
       "├─────────────────────────────────┼────────────────────────┼───────────────┤\n",
       "│ dense_2 (\u001b[38;5;33mDense\u001b[0m)                 │ (\u001b[38;5;45mNone\u001b[0m, \u001b[38;5;34m1\u001b[0m)              │            \u001b[38;5;34m12\u001b[0m │\n",
       "└─────────────────────────────────┴────────────────────────┴───────────────┘\n"
      ]
     },
     "metadata": {},
     "output_type": "display_data"
    },
    {
     "data": {
      "text/html": [
       "<pre style=\"white-space:pre;overflow-x:auto;line-height:normal;font-family:Menlo,'DejaVu Sans Mono',consolas,'Courier New',monospace\"><span style=\"font-weight: bold\"> Total params: </span><span style=\"color: #00af00; text-decoration-color: #00af00\">276</span> (1.08 KB)\n",
       "</pre>\n"
      ],
      "text/plain": [
       "\u001b[1m Total params: \u001b[0m\u001b[38;5;34m276\u001b[0m (1.08 KB)\n"
      ]
     },
     "metadata": {},
     "output_type": "display_data"
    },
    {
     "data": {
      "text/html": [
       "<pre style=\"white-space:pre;overflow-x:auto;line-height:normal;font-family:Menlo,'DejaVu Sans Mono',consolas,'Courier New',monospace\"><span style=\"font-weight: bold\"> Trainable params: </span><span style=\"color: #00af00; text-decoration-color: #00af00\">276</span> (1.08 KB)\n",
       "</pre>\n"
      ],
      "text/plain": [
       "\u001b[1m Trainable params: \u001b[0m\u001b[38;5;34m276\u001b[0m (1.08 KB)\n"
      ]
     },
     "metadata": {},
     "output_type": "display_data"
    },
    {
     "data": {
      "text/html": [
       "<pre style=\"white-space:pre;overflow-x:auto;line-height:normal;font-family:Menlo,'DejaVu Sans Mono',consolas,'Courier New',monospace\"><span style=\"font-weight: bold\"> Non-trainable params: </span><span style=\"color: #00af00; text-decoration-color: #00af00\">0</span> (0.00 B)\n",
       "</pre>\n"
      ],
      "text/plain": [
       "\u001b[1m Non-trainable params: \u001b[0m\u001b[38;5;34m0\u001b[0m (0.00 B)\n"
      ]
     },
     "metadata": {},
     "output_type": "display_data"
    }
   ],
   "source": [
    "model.summary()"
   ]
  },
  {
   "cell_type": "code",
   "execution_count": 21,
   "metadata": {},
   "outputs": [],
   "source": [
    "model.compile(loss='binary_crossentropy',optimizer='Adam',metrics=['accuracy'])"
   ]
  },
  {
   "cell_type": "code",
   "execution_count": 22,
   "metadata": {},
   "outputs": [
    {
     "name": "stdout",
     "output_type": "stream",
     "text": [
      "Epoch 1/100\n",
      "\u001b[1m200/200\u001b[0m \u001b[32m━━━━━━━━━━━━━━━━━━━━\u001b[0m\u001b[37m\u001b[0m \u001b[1m2s\u001b[0m 3ms/step - accuracy: 0.6820 - loss: 0.5917 - val_accuracy: 0.8025 - val_loss: 0.4641\n",
      "Epoch 2/100\n",
      "\u001b[1m200/200\u001b[0m \u001b[32m━━━━━━━━━━━━━━━━━━━━\u001b[0m\u001b[37m\u001b[0m \u001b[1m0s\u001b[0m 2ms/step - accuracy: 0.7974 - loss: 0.4648 - val_accuracy: 0.8119 - val_loss: 0.4410\n",
      "Epoch 3/100\n",
      "\u001b[1m200/200\u001b[0m \u001b[32m━━━━━━━━━━━━━━━━━━━━\u001b[0m\u001b[37m\u001b[0m \u001b[1m0s\u001b[0m 2ms/step - accuracy: 0.8099 - loss: 0.4352 - val_accuracy: 0.8144 - val_loss: 0.4277\n",
      "Epoch 4/100\n",
      "\u001b[1m200/200\u001b[0m \u001b[32m━━━━━━━━━━━━━━━━━━━━\u001b[0m\u001b[37m\u001b[0m \u001b[1m0s\u001b[0m 2ms/step - accuracy: 0.8210 - loss: 0.4236 - val_accuracy: 0.8169 - val_loss: 0.4189\n",
      "Epoch 5/100\n",
      "\u001b[1m200/200\u001b[0m \u001b[32m━━━━━━━━━━━━━━━━━━━━\u001b[0m\u001b[37m\u001b[0m \u001b[1m0s\u001b[0m 2ms/step - accuracy: 0.8182 - loss: 0.4147 - val_accuracy: 0.8200 - val_loss: 0.4109\n",
      "Epoch 6/100\n",
      "\u001b[1m200/200\u001b[0m \u001b[32m━━━━━━━━━━━━━━━━━━━━\u001b[0m\u001b[37m\u001b[0m \u001b[1m0s\u001b[0m 2ms/step - accuracy: 0.8298 - loss: 0.4060 - val_accuracy: 0.8281 - val_loss: 0.4002\n",
      "Epoch 7/100\n",
      "\u001b[1m200/200\u001b[0m \u001b[32m━━━━━━━━━━━━━━━━━━━━\u001b[0m\u001b[37m\u001b[0m \u001b[1m0s\u001b[0m 2ms/step - accuracy: 0.8302 - loss: 0.3963 - val_accuracy: 0.8356 - val_loss: 0.3916\n",
      "Epoch 8/100\n",
      "\u001b[1m200/200\u001b[0m \u001b[32m━━━━━━━━━━━━━━━━━━━━\u001b[0m\u001b[37m\u001b[0m \u001b[1m0s\u001b[0m 2ms/step - accuracy: 0.8390 - loss: 0.3836 - val_accuracy: 0.8381 - val_loss: 0.3801\n",
      "Epoch 9/100\n",
      "\u001b[1m200/200\u001b[0m \u001b[32m━━━━━━━━━━━━━━━━━━━━\u001b[0m\u001b[37m\u001b[0m \u001b[1m0s\u001b[0m 2ms/step - accuracy: 0.8501 - loss: 0.3758 - val_accuracy: 0.8438 - val_loss: 0.3729\n",
      "Epoch 10/100\n",
      "\u001b[1m200/200\u001b[0m \u001b[32m━━━━━━━━━━━━━━━━━━━━\u001b[0m\u001b[37m\u001b[0m \u001b[1m0s\u001b[0m 2ms/step - accuracy: 0.8498 - loss: 0.3683 - val_accuracy: 0.8506 - val_loss: 0.3650\n",
      "Epoch 11/100\n",
      "\u001b[1m200/200\u001b[0m \u001b[32m━━━━━━━━━━━━━━━━━━━━\u001b[0m\u001b[37m\u001b[0m \u001b[1m0s\u001b[0m 2ms/step - accuracy: 0.8556 - loss: 0.3602 - val_accuracy: 0.8544 - val_loss: 0.3608\n",
      "Epoch 12/100\n",
      "\u001b[1m200/200\u001b[0m \u001b[32m━━━━━━━━━━━━━━━━━━━━\u001b[0m\u001b[37m\u001b[0m \u001b[1m0s\u001b[0m 2ms/step - accuracy: 0.8523 - loss: 0.3698 - val_accuracy: 0.8519 - val_loss: 0.3584\n",
      "Epoch 13/100\n",
      "\u001b[1m200/200\u001b[0m \u001b[32m━━━━━━━━━━━━━━━━━━━━\u001b[0m\u001b[37m\u001b[0m \u001b[1m0s\u001b[0m 2ms/step - accuracy: 0.8553 - loss: 0.3510 - val_accuracy: 0.8550 - val_loss: 0.3560\n",
      "Epoch 14/100\n",
      "\u001b[1m200/200\u001b[0m \u001b[32m━━━━━━━━━━━━━━━━━━━━\u001b[0m\u001b[37m\u001b[0m \u001b[1m0s\u001b[0m 2ms/step - accuracy: 0.8534 - loss: 0.3521 - val_accuracy: 0.8537 - val_loss: 0.3554\n",
      "Epoch 15/100\n",
      "\u001b[1m200/200\u001b[0m \u001b[32m━━━━━━━━━━━━━━━━━━━━\u001b[0m\u001b[37m\u001b[0m \u001b[1m0s\u001b[0m 2ms/step - accuracy: 0.8612 - loss: 0.3320 - val_accuracy: 0.8531 - val_loss: 0.3549\n",
      "Epoch 16/100\n",
      "\u001b[1m200/200\u001b[0m \u001b[32m━━━━━━━━━━━━━━━━━━━━\u001b[0m\u001b[37m\u001b[0m \u001b[1m0s\u001b[0m 2ms/step - accuracy: 0.8527 - loss: 0.3549 - val_accuracy: 0.8512 - val_loss: 0.3549\n",
      "Epoch 17/100\n",
      "\u001b[1m200/200\u001b[0m \u001b[32m━━━━━━━━━━━━━━━━━━━━\u001b[0m\u001b[37m\u001b[0m \u001b[1m0s\u001b[0m 2ms/step - accuracy: 0.8566 - loss: 0.3423 - val_accuracy: 0.8512 - val_loss: 0.3535\n",
      "Epoch 18/100\n",
      "\u001b[1m200/200\u001b[0m \u001b[32m━━━━━━━━━━━━━━━━━━━━\u001b[0m\u001b[37m\u001b[0m \u001b[1m1s\u001b[0m 2ms/step - accuracy: 0.8620 - loss: 0.3407 - val_accuracy: 0.8500 - val_loss: 0.3542\n",
      "Epoch 19/100\n",
      "\u001b[1m200/200\u001b[0m \u001b[32m━━━━━━━━━━━━━━━━━━━━\u001b[0m\u001b[37m\u001b[0m \u001b[1m0s\u001b[0m 2ms/step - accuracy: 0.8591 - loss: 0.3483 - val_accuracy: 0.8544 - val_loss: 0.3532\n",
      "Epoch 20/100\n",
      "\u001b[1m200/200\u001b[0m \u001b[32m━━━━━━━━━━━━━━━━━━━━\u001b[0m\u001b[37m\u001b[0m \u001b[1m0s\u001b[0m 2ms/step - accuracy: 0.8673 - loss: 0.3374 - val_accuracy: 0.8525 - val_loss: 0.3516\n",
      "Epoch 21/100\n",
      "\u001b[1m200/200\u001b[0m \u001b[32m━━━━━━━━━━━━━━━━━━━━\u001b[0m\u001b[37m\u001b[0m \u001b[1m0s\u001b[0m 2ms/step - accuracy: 0.8625 - loss: 0.3389 - val_accuracy: 0.8544 - val_loss: 0.3509\n",
      "Epoch 22/100\n",
      "\u001b[1m200/200\u001b[0m \u001b[32m━━━━━━━━━━━━━━━━━━━━\u001b[0m\u001b[37m\u001b[0m \u001b[1m0s\u001b[0m 2ms/step - accuracy: 0.8582 - loss: 0.3407 - val_accuracy: 0.8525 - val_loss: 0.3518\n",
      "Epoch 23/100\n",
      "\u001b[1m200/200\u001b[0m \u001b[32m━━━━━━━━━━━━━━━━━━━━\u001b[0m\u001b[37m\u001b[0m \u001b[1m0s\u001b[0m 2ms/step - accuracy: 0.8601 - loss: 0.3457 - val_accuracy: 0.8525 - val_loss: 0.3522\n",
      "Epoch 24/100\n",
      "\u001b[1m200/200\u001b[0m \u001b[32m━━━━━━━━━━━━━━━━━━━━\u001b[0m\u001b[37m\u001b[0m \u001b[1m0s\u001b[0m 2ms/step - accuracy: 0.8626 - loss: 0.3423 - val_accuracy: 0.8531 - val_loss: 0.3535\n",
      "Epoch 25/100\n",
      "\u001b[1m200/200\u001b[0m \u001b[32m━━━━━━━━━━━━━━━━━━━━\u001b[0m\u001b[37m\u001b[0m \u001b[1m0s\u001b[0m 2ms/step - accuracy: 0.8609 - loss: 0.3402 - val_accuracy: 0.8500 - val_loss: 0.3508\n",
      "Epoch 26/100\n",
      "\u001b[1m200/200\u001b[0m \u001b[32m━━━━━━━━━━━━━━━━━━━━\u001b[0m\u001b[37m\u001b[0m \u001b[1m0s\u001b[0m 2ms/step - accuracy: 0.8545 - loss: 0.3576 - val_accuracy: 0.8537 - val_loss: 0.3496\n",
      "Epoch 27/100\n",
      "\u001b[1m200/200\u001b[0m \u001b[32m━━━━━━━━━━━━━━━━━━━━\u001b[0m\u001b[37m\u001b[0m \u001b[1m0s\u001b[0m 2ms/step - accuracy: 0.8581 - loss: 0.3445 - val_accuracy: 0.8525 - val_loss: 0.3514\n",
      "Epoch 28/100\n",
      "\u001b[1m200/200\u001b[0m \u001b[32m━━━━━━━━━━━━━━━━━━━━\u001b[0m\u001b[37m\u001b[0m \u001b[1m0s\u001b[0m 2ms/step - accuracy: 0.8637 - loss: 0.3361 - val_accuracy: 0.8525 - val_loss: 0.3515\n",
      "Epoch 29/100\n",
      "\u001b[1m200/200\u001b[0m \u001b[32m━━━━━━━━━━━━━━━━━━━━\u001b[0m\u001b[37m\u001b[0m \u001b[1m0s\u001b[0m 2ms/step - accuracy: 0.8671 - loss: 0.3270 - val_accuracy: 0.8544 - val_loss: 0.3497\n",
      "Epoch 30/100\n",
      "\u001b[1m200/200\u001b[0m \u001b[32m━━━━━━━━━━━━━━━━━━━━\u001b[0m\u001b[37m\u001b[0m \u001b[1m0s\u001b[0m 2ms/step - accuracy: 0.8567 - loss: 0.3494 - val_accuracy: 0.8537 - val_loss: 0.3519\n",
      "Epoch 31/100\n",
      "\u001b[1m200/200\u001b[0m \u001b[32m━━━━━━━━━━━━━━━━━━━━\u001b[0m\u001b[37m\u001b[0m \u001b[1m0s\u001b[0m 2ms/step - accuracy: 0.8606 - loss: 0.3421 - val_accuracy: 0.8581 - val_loss: 0.3500\n",
      "Epoch 32/100\n",
      "\u001b[1m200/200\u001b[0m \u001b[32m━━━━━━━━━━━━━━━━━━━━\u001b[0m\u001b[37m\u001b[0m \u001b[1m0s\u001b[0m 2ms/step - accuracy: 0.8583 - loss: 0.3425 - val_accuracy: 0.8537 - val_loss: 0.3518\n",
      "Epoch 33/100\n",
      "\u001b[1m200/200\u001b[0m \u001b[32m━━━━━━━━━━━━━━━━━━━━\u001b[0m\u001b[37m\u001b[0m \u001b[1m1s\u001b[0m 2ms/step - accuracy: 0.8537 - loss: 0.3502 - val_accuracy: 0.8556 - val_loss: 0.3512\n",
      "Epoch 34/100\n",
      "\u001b[1m200/200\u001b[0m \u001b[32m━━━━━━━━━━━━━━━━━━━━\u001b[0m\u001b[37m\u001b[0m \u001b[1m0s\u001b[0m 2ms/step - accuracy: 0.8653 - loss: 0.3401 - val_accuracy: 0.8519 - val_loss: 0.3507\n",
      "Epoch 35/100\n",
      "\u001b[1m200/200\u001b[0m \u001b[32m━━━━━━━━━━━━━━━━━━━━\u001b[0m\u001b[37m\u001b[0m \u001b[1m0s\u001b[0m 2ms/step - accuracy: 0.8657 - loss: 0.3316 - val_accuracy: 0.8550 - val_loss: 0.3514\n",
      "Epoch 36/100\n",
      "\u001b[1m200/200\u001b[0m \u001b[32m━━━━━━━━━━━━━━━━━━━━\u001b[0m\u001b[37m\u001b[0m \u001b[1m0s\u001b[0m 2ms/step - accuracy: 0.8697 - loss: 0.3325 - val_accuracy: 0.8544 - val_loss: 0.3505\n",
      "Epoch 37/100\n",
      "\u001b[1m200/200\u001b[0m \u001b[32m━━━━━━━━━━━━━━━━━━━━\u001b[0m\u001b[37m\u001b[0m \u001b[1m1s\u001b[0m 2ms/step - accuracy: 0.8645 - loss: 0.3322 - val_accuracy: 0.8562 - val_loss: 0.3501\n",
      "Epoch 38/100\n",
      "\u001b[1m200/200\u001b[0m \u001b[32m━━━━━━━━━━━━━━━━━━━━\u001b[0m\u001b[37m\u001b[0m \u001b[1m0s\u001b[0m 2ms/step - accuracy: 0.8626 - loss: 0.3365 - val_accuracy: 0.8544 - val_loss: 0.3513\n",
      "Epoch 39/100\n",
      "\u001b[1m200/200\u001b[0m \u001b[32m━━━━━━━━━━━━━━━━━━━━\u001b[0m\u001b[37m\u001b[0m \u001b[1m0s\u001b[0m 2ms/step - accuracy: 0.8731 - loss: 0.3194 - val_accuracy: 0.8556 - val_loss: 0.3509\n",
      "Epoch 40/100\n",
      "\u001b[1m200/200\u001b[0m \u001b[32m━━━━━━━━━━━━━━━━━━━━\u001b[0m\u001b[37m\u001b[0m \u001b[1m0s\u001b[0m 2ms/step - accuracy: 0.8654 - loss: 0.3315 - val_accuracy: 0.8550 - val_loss: 0.3499\n",
      "Epoch 41/100\n",
      "\u001b[1m200/200\u001b[0m \u001b[32m━━━━━━━━━━━━━━━━━━━━\u001b[0m\u001b[37m\u001b[0m \u001b[1m0s\u001b[0m 2ms/step - accuracy: 0.8661 - loss: 0.3307 - val_accuracy: 0.8537 - val_loss: 0.3505\n",
      "Epoch 42/100\n",
      "\u001b[1m200/200\u001b[0m \u001b[32m━━━━━━━━━━━━━━━━━━━━\u001b[0m\u001b[37m\u001b[0m \u001b[1m1s\u001b[0m 2ms/step - accuracy: 0.8692 - loss: 0.3292 - val_accuracy: 0.8556 - val_loss: 0.3510\n",
      "Epoch 43/100\n",
      "\u001b[1m200/200\u001b[0m \u001b[32m━━━━━━━━━━━━━━━━━━━━\u001b[0m\u001b[37m\u001b[0m \u001b[1m0s\u001b[0m 2ms/step - accuracy: 0.8662 - loss: 0.3279 - val_accuracy: 0.8581 - val_loss: 0.3530\n",
      "Epoch 44/100\n",
      "\u001b[1m200/200\u001b[0m \u001b[32m━━━━━━━━━━━━━━━━━━━━\u001b[0m\u001b[37m\u001b[0m \u001b[1m0s\u001b[0m 2ms/step - accuracy: 0.8695 - loss: 0.3303 - val_accuracy: 0.8531 - val_loss: 0.3508\n",
      "Epoch 45/100\n",
      "\u001b[1m200/200\u001b[0m \u001b[32m━━━━━━━━━━━━━━━━━━━━\u001b[0m\u001b[37m\u001b[0m \u001b[1m1s\u001b[0m 2ms/step - accuracy: 0.8637 - loss: 0.3346 - val_accuracy: 0.8556 - val_loss: 0.3515\n",
      "Epoch 46/100\n",
      "\u001b[1m200/200\u001b[0m \u001b[32m━━━━━━━━━━━━━━━━━━━━\u001b[0m\u001b[37m\u001b[0m \u001b[1m0s\u001b[0m 2ms/step - accuracy: 0.8660 - loss: 0.3261 - val_accuracy: 0.8556 - val_loss: 0.3516\n",
      "Epoch 47/100\n",
      "\u001b[1m200/200\u001b[0m \u001b[32m━━━━━━━━━━━━━━━━━━━━\u001b[0m\u001b[37m\u001b[0m \u001b[1m0s\u001b[0m 2ms/step - accuracy: 0.8668 - loss: 0.3299 - val_accuracy: 0.8569 - val_loss: 0.3518\n",
      "Epoch 48/100\n",
      "\u001b[1m200/200\u001b[0m \u001b[32m━━━━━━━━━━━━━━━━━━━━\u001b[0m\u001b[37m\u001b[0m \u001b[1m0s\u001b[0m 2ms/step - accuracy: 0.8553 - loss: 0.3388 - val_accuracy: 0.8562 - val_loss: 0.3515\n",
      "Epoch 49/100\n",
      "\u001b[1m200/200\u001b[0m \u001b[32m━━━━━━━━━━━━━━━━━━━━\u001b[0m\u001b[37m\u001b[0m \u001b[1m0s\u001b[0m 2ms/step - accuracy: 0.8619 - loss: 0.3378 - val_accuracy: 0.8569 - val_loss: 0.3508\n",
      "Epoch 50/100\n",
      "\u001b[1m200/200\u001b[0m \u001b[32m━━━━━━━━━━━━━━━━━━━━\u001b[0m\u001b[37m\u001b[0m \u001b[1m0s\u001b[0m 2ms/step - accuracy: 0.8606 - loss: 0.3382 - val_accuracy: 0.8569 - val_loss: 0.3507\n",
      "Epoch 51/100\n",
      "\u001b[1m200/200\u001b[0m \u001b[32m━━━━━━━━━━━━━━━━━━━━\u001b[0m\u001b[37m\u001b[0m \u001b[1m0s\u001b[0m 2ms/step - accuracy: 0.8617 - loss: 0.3372 - val_accuracy: 0.8562 - val_loss: 0.3519\n",
      "Epoch 52/100\n",
      "\u001b[1m200/200\u001b[0m \u001b[32m━━━━━━━━━━━━━━━━━━━━\u001b[0m\u001b[37m\u001b[0m \u001b[1m0s\u001b[0m 2ms/step - accuracy: 0.8676 - loss: 0.3293 - val_accuracy: 0.8556 - val_loss: 0.3511\n",
      "Epoch 53/100\n",
      "\u001b[1m200/200\u001b[0m \u001b[32m━━━━━━━━━━━━━━━━━━━━\u001b[0m\u001b[37m\u001b[0m \u001b[1m0s\u001b[0m 2ms/step - accuracy: 0.8701 - loss: 0.3295 - val_accuracy: 0.8575 - val_loss: 0.3485\n",
      "Epoch 54/100\n",
      "\u001b[1m200/200\u001b[0m \u001b[32m━━━━━━━━━━━━━━━━━━━━\u001b[0m\u001b[37m\u001b[0m \u001b[1m0s\u001b[0m 2ms/step - accuracy: 0.8698 - loss: 0.3223 - val_accuracy: 0.8606 - val_loss: 0.3488\n",
      "Epoch 55/100\n",
      "\u001b[1m200/200\u001b[0m \u001b[32m━━━━━━━━━━━━━━━━━━━━\u001b[0m\u001b[37m\u001b[0m \u001b[1m0s\u001b[0m 2ms/step - accuracy: 0.8626 - loss: 0.3266 - val_accuracy: 0.8587 - val_loss: 0.3480\n",
      "Epoch 56/100\n",
      "\u001b[1m200/200\u001b[0m \u001b[32m━━━━━━━━━━━━━━━━━━━━\u001b[0m\u001b[37m\u001b[0m \u001b[1m0s\u001b[0m 2ms/step - accuracy: 0.8700 - loss: 0.3231 - val_accuracy: 0.8550 - val_loss: 0.3498\n",
      "Epoch 57/100\n",
      "\u001b[1m200/200\u001b[0m \u001b[32m━━━━━━━━━━━━━━━━━━━━\u001b[0m\u001b[37m\u001b[0m \u001b[1m0s\u001b[0m 2ms/step - accuracy: 0.8709 - loss: 0.3190 - val_accuracy: 0.8600 - val_loss: 0.3480\n",
      "Epoch 58/100\n",
      "\u001b[1m200/200\u001b[0m \u001b[32m━━━━━━━━━━━━━━━━━━━━\u001b[0m\u001b[37m\u001b[0m \u001b[1m0s\u001b[0m 2ms/step - accuracy: 0.8566 - loss: 0.3401 - val_accuracy: 0.8600 - val_loss: 0.3489\n",
      "Epoch 59/100\n",
      "\u001b[1m200/200\u001b[0m \u001b[32m━━━━━━━━━━━━━━━━━━━━\u001b[0m\u001b[37m\u001b[0m \u001b[1m0s\u001b[0m 2ms/step - accuracy: 0.8665 - loss: 0.3315 - val_accuracy: 0.8569 - val_loss: 0.3491\n",
      "Epoch 60/100\n",
      "\u001b[1m200/200\u001b[0m \u001b[32m━━━━━━━━━━━━━━━━━━━━\u001b[0m\u001b[37m\u001b[0m \u001b[1m0s\u001b[0m 2ms/step - accuracy: 0.8649 - loss: 0.3383 - val_accuracy: 0.8550 - val_loss: 0.3476\n",
      "Epoch 61/100\n",
      "\u001b[1m200/200\u001b[0m \u001b[32m━━━━━━━━━━━━━━━━━━━━\u001b[0m\u001b[37m\u001b[0m \u001b[1m0s\u001b[0m 2ms/step - accuracy: 0.8687 - loss: 0.3233 - val_accuracy: 0.8581 - val_loss: 0.3478\n",
      "Epoch 62/100\n",
      "\u001b[1m200/200\u001b[0m \u001b[32m━━━━━━━━━━━━━━━━━━━━\u001b[0m\u001b[37m\u001b[0m \u001b[1m0s\u001b[0m 2ms/step - accuracy: 0.8682 - loss: 0.3227 - val_accuracy: 0.8562 - val_loss: 0.3466\n",
      "Epoch 63/100\n",
      "\u001b[1m200/200\u001b[0m \u001b[32m━━━━━━━━━━━━━━━━━━━━\u001b[0m\u001b[37m\u001b[0m \u001b[1m0s\u001b[0m 2ms/step - accuracy: 0.8714 - loss: 0.3171 - val_accuracy: 0.8537 - val_loss: 0.3491\n",
      "Epoch 64/100\n",
      "\u001b[1m200/200\u001b[0m \u001b[32m━━━━━━━━━━━━━━━━━━━━\u001b[0m\u001b[37m\u001b[0m \u001b[1m0s\u001b[0m 2ms/step - accuracy: 0.8724 - loss: 0.3203 - val_accuracy: 0.8562 - val_loss: 0.3470\n",
      "Epoch 65/100\n",
      "\u001b[1m200/200\u001b[0m \u001b[32m━━━━━━━━━━━━━━━━━━━━\u001b[0m\u001b[37m\u001b[0m \u001b[1m0s\u001b[0m 2ms/step - accuracy: 0.8650 - loss: 0.3262 - val_accuracy: 0.8537 - val_loss: 0.3469\n",
      "Epoch 66/100\n",
      "\u001b[1m200/200\u001b[0m \u001b[32m━━━━━━━━━━━━━━━━━━━━\u001b[0m\u001b[37m\u001b[0m \u001b[1m0s\u001b[0m 2ms/step - accuracy: 0.8667 - loss: 0.3297 - val_accuracy: 0.8575 - val_loss: 0.3494\n",
      "Epoch 67/100\n",
      "\u001b[1m200/200\u001b[0m \u001b[32m━━━━━━━━━━━━━━━━━━━━\u001b[0m\u001b[37m\u001b[0m \u001b[1m0s\u001b[0m 2ms/step - accuracy: 0.8609 - loss: 0.3306 - val_accuracy: 0.8575 - val_loss: 0.3470\n",
      "Epoch 68/100\n",
      "\u001b[1m200/200\u001b[0m \u001b[32m━━━━━━━━━━━━━━━━━━━━\u001b[0m\u001b[37m\u001b[0m \u001b[1m0s\u001b[0m 2ms/step - accuracy: 0.8614 - loss: 0.3382 - val_accuracy: 0.8550 - val_loss: 0.3496\n",
      "Epoch 69/100\n",
      "\u001b[1m200/200\u001b[0m \u001b[32m━━━━━━━━━━━━━━━━━━━━\u001b[0m\u001b[37m\u001b[0m \u001b[1m0s\u001b[0m 2ms/step - accuracy: 0.8694 - loss: 0.3215 - val_accuracy: 0.8556 - val_loss: 0.3492\n",
      "Epoch 70/100\n",
      "\u001b[1m200/200\u001b[0m \u001b[32m━━━━━━━━━━━━━━━━━━━━\u001b[0m\u001b[37m\u001b[0m \u001b[1m0s\u001b[0m 2ms/step - accuracy: 0.8739 - loss: 0.3145 - val_accuracy: 0.8556 - val_loss: 0.3478\n",
      "Epoch 71/100\n",
      "\u001b[1m200/200\u001b[0m \u001b[32m━━━━━━━━━━━━━━━━━━━━\u001b[0m\u001b[37m\u001b[0m \u001b[1m0s\u001b[0m 2ms/step - accuracy: 0.8669 - loss: 0.3252 - val_accuracy: 0.8550 - val_loss: 0.3462\n",
      "Epoch 72/100\n",
      "\u001b[1m200/200\u001b[0m \u001b[32m━━━━━━━━━━━━━━━━━━━━\u001b[0m\u001b[37m\u001b[0m \u001b[1m0s\u001b[0m 2ms/step - accuracy: 0.8724 - loss: 0.3180 - val_accuracy: 0.8556 - val_loss: 0.3469\n",
      "Epoch 73/100\n",
      "\u001b[1m200/200\u001b[0m \u001b[32m━━━━━━━━━━━━━━━━━━━━\u001b[0m\u001b[37m\u001b[0m \u001b[1m0s\u001b[0m 2ms/step - accuracy: 0.8720 - loss: 0.3120 - val_accuracy: 0.8544 - val_loss: 0.3464\n",
      "Epoch 74/100\n",
      "\u001b[1m200/200\u001b[0m \u001b[32m━━━━━━━━━━━━━━━━━━━━\u001b[0m\u001b[37m\u001b[0m \u001b[1m0s\u001b[0m 2ms/step - accuracy: 0.8673 - loss: 0.3228 - val_accuracy: 0.8569 - val_loss: 0.3464\n",
      "Epoch 75/100\n",
      "\u001b[1m200/200\u001b[0m \u001b[32m━━━━━━━━━━━━━━━━━━━━\u001b[0m\u001b[37m\u001b[0m \u001b[1m0s\u001b[0m 2ms/step - accuracy: 0.8651 - loss: 0.3327 - val_accuracy: 0.8562 - val_loss: 0.3459\n",
      "Epoch 76/100\n",
      "\u001b[1m200/200\u001b[0m \u001b[32m━━━━━━━━━━━━━━━━━━━━\u001b[0m\u001b[37m\u001b[0m \u001b[1m0s\u001b[0m 2ms/step - accuracy: 0.8652 - loss: 0.3290 - val_accuracy: 0.8556 - val_loss: 0.3461\n",
      "Epoch 77/100\n",
      "\u001b[1m200/200\u001b[0m \u001b[32m━━━━━━━━━━━━━━━━━━━━\u001b[0m\u001b[37m\u001b[0m \u001b[1m0s\u001b[0m 2ms/step - accuracy: 0.8611 - loss: 0.3413 - val_accuracy: 0.8562 - val_loss: 0.3458\n",
      "Epoch 78/100\n",
      "\u001b[1m200/200\u001b[0m \u001b[32m━━━━━━━━━━━━━━━━━━━━\u001b[0m\u001b[37m\u001b[0m \u001b[1m0s\u001b[0m 2ms/step - accuracy: 0.8705 - loss: 0.3184 - val_accuracy: 0.8556 - val_loss: 0.3463\n",
      "Epoch 79/100\n",
      "\u001b[1m200/200\u001b[0m \u001b[32m━━━━━━━━━━━━━━━━━━━━\u001b[0m\u001b[37m\u001b[0m \u001b[1m0s\u001b[0m 2ms/step - accuracy: 0.8671 - loss: 0.3175 - val_accuracy: 0.8562 - val_loss: 0.3475\n",
      "Epoch 80/100\n",
      "\u001b[1m200/200\u001b[0m \u001b[32m━━━━━━━━━━━━━━━━━━━━\u001b[0m\u001b[37m\u001b[0m \u001b[1m0s\u001b[0m 2ms/step - accuracy: 0.8697 - loss: 0.3139 - val_accuracy: 0.8569 - val_loss: 0.3462\n",
      "Epoch 81/100\n",
      "\u001b[1m200/200\u001b[0m \u001b[32m━━━━━━━━━━━━━━━━━━━━\u001b[0m\u001b[37m\u001b[0m \u001b[1m0s\u001b[0m 2ms/step - accuracy: 0.8686 - loss: 0.3216 - val_accuracy: 0.8550 - val_loss: 0.3478\n",
      "Epoch 82/100\n",
      "\u001b[1m200/200\u001b[0m \u001b[32m━━━━━━━━━━━━━━━━━━━━\u001b[0m\u001b[37m\u001b[0m \u001b[1m0s\u001b[0m 2ms/step - accuracy: 0.8716 - loss: 0.3129 - val_accuracy: 0.8537 - val_loss: 0.3474\n",
      "Epoch 83/100\n",
      "\u001b[1m200/200\u001b[0m \u001b[32m━━━━━━━━━━━━━━━━━━━━\u001b[0m\u001b[37m\u001b[0m \u001b[1m0s\u001b[0m 2ms/step - accuracy: 0.8608 - loss: 0.3260 - val_accuracy: 0.8550 - val_loss: 0.3500\n",
      "Epoch 84/100\n",
      "\u001b[1m200/200\u001b[0m \u001b[32m━━━━━━━━━━━━━━━━━━━━\u001b[0m\u001b[37m\u001b[0m \u001b[1m0s\u001b[0m 2ms/step - accuracy: 0.8715 - loss: 0.3180 - val_accuracy: 0.8550 - val_loss: 0.3465\n",
      "Epoch 85/100\n",
      "\u001b[1m200/200\u001b[0m \u001b[32m━━━━━━━━━━━━━━━━━━━━\u001b[0m\u001b[37m\u001b[0m \u001b[1m0s\u001b[0m 2ms/step - accuracy: 0.8718 - loss: 0.3165 - val_accuracy: 0.8544 - val_loss: 0.3472\n",
      "Epoch 86/100\n",
      "\u001b[1m200/200\u001b[0m \u001b[32m━━━━━━━━━━━━━━━━━━━━\u001b[0m\u001b[37m\u001b[0m \u001b[1m0s\u001b[0m 2ms/step - accuracy: 0.8693 - loss: 0.3212 - val_accuracy: 0.8562 - val_loss: 0.3466\n",
      "Epoch 87/100\n",
      "\u001b[1m200/200\u001b[0m \u001b[32m━━━━━━━━━━━━━━━━━━━━\u001b[0m\u001b[37m\u001b[0m \u001b[1m0s\u001b[0m 2ms/step - accuracy: 0.8680 - loss: 0.3174 - val_accuracy: 0.8550 - val_loss: 0.3482\n",
      "Epoch 88/100\n",
      "\u001b[1m200/200\u001b[0m \u001b[32m━━━━━━━━━━━━━━━━━━━━\u001b[0m\u001b[37m\u001b[0m \u001b[1m0s\u001b[0m 2ms/step - accuracy: 0.8786 - loss: 0.3085 - val_accuracy: 0.8562 - val_loss: 0.3467\n",
      "Epoch 89/100\n",
      "\u001b[1m200/200\u001b[0m \u001b[32m━━━━━━━━━━━━━━━━━━━━\u001b[0m\u001b[37m\u001b[0m \u001b[1m0s\u001b[0m 2ms/step - accuracy: 0.8692 - loss: 0.3145 - val_accuracy: 0.8556 - val_loss: 0.3465\n",
      "Epoch 90/100\n",
      "\u001b[1m200/200\u001b[0m \u001b[32m━━━━━━━━━━━━━━━━━━━━\u001b[0m\u001b[37m\u001b[0m \u001b[1m0s\u001b[0m 2ms/step - accuracy: 0.8732 - loss: 0.3138 - val_accuracy: 0.8569 - val_loss: 0.3483\n",
      "Epoch 91/100\n",
      "\u001b[1m200/200\u001b[0m \u001b[32m━━━━━━━━━━━━━━━━━━━━\u001b[0m\u001b[37m\u001b[0m \u001b[1m0s\u001b[0m 2ms/step - accuracy: 0.8677 - loss: 0.3246 - val_accuracy: 0.8575 - val_loss: 0.3478\n",
      "Epoch 92/100\n",
      "\u001b[1m200/200\u001b[0m \u001b[32m━━━━━━━━━━━━━━━━━━━━\u001b[0m\u001b[37m\u001b[0m \u001b[1m0s\u001b[0m 2ms/step - accuracy: 0.8752 - loss: 0.3068 - val_accuracy: 0.8550 - val_loss: 0.3478\n",
      "Epoch 93/100\n",
      "\u001b[1m200/200\u001b[0m \u001b[32m━━━━━━━━━━━━━━━━━━━━\u001b[0m\u001b[37m\u001b[0m \u001b[1m0s\u001b[0m 2ms/step - accuracy: 0.8719 - loss: 0.3126 - val_accuracy: 0.8569 - val_loss: 0.3469\n",
      "Epoch 94/100\n",
      "\u001b[1m200/200\u001b[0m \u001b[32m━━━━━━━━━━━━━━━━━━━━\u001b[0m\u001b[37m\u001b[0m \u001b[1m1s\u001b[0m 2ms/step - accuracy: 0.8657 - loss: 0.3290 - val_accuracy: 0.8562 - val_loss: 0.3454\n",
      "Epoch 95/100\n",
      "\u001b[1m200/200\u001b[0m \u001b[32m━━━━━━━━━━━━━━━━━━━━\u001b[0m\u001b[37m\u001b[0m \u001b[1m0s\u001b[0m 2ms/step - accuracy: 0.8674 - loss: 0.3190 - val_accuracy: 0.8531 - val_loss: 0.3474\n",
      "Epoch 96/100\n",
      "\u001b[1m200/200\u001b[0m \u001b[32m━━━━━━━━━━━━━━━━━━━━\u001b[0m\u001b[37m\u001b[0m \u001b[1m0s\u001b[0m 2ms/step - accuracy: 0.8662 - loss: 0.3202 - val_accuracy: 0.8512 - val_loss: 0.3475\n",
      "Epoch 97/100\n",
      "\u001b[1m200/200\u001b[0m \u001b[32m━━━━━━━━━━━━━━━━━━━━\u001b[0m\u001b[37m\u001b[0m \u001b[1m0s\u001b[0m 2ms/step - accuracy: 0.8725 - loss: 0.3113 - val_accuracy: 0.8544 - val_loss: 0.3478\n",
      "Epoch 98/100\n",
      "\u001b[1m200/200\u001b[0m \u001b[32m━━━━━━━━━━━━━━━━━━━━\u001b[0m\u001b[37m\u001b[0m \u001b[1m0s\u001b[0m 2ms/step - accuracy: 0.8664 - loss: 0.3200 - val_accuracy: 0.8512 - val_loss: 0.3485\n",
      "Epoch 99/100\n",
      "\u001b[1m200/200\u001b[0m \u001b[32m━━━━━━━━━━━━━━━━━━━━\u001b[0m\u001b[37m\u001b[0m \u001b[1m0s\u001b[0m 2ms/step - accuracy: 0.8755 - loss: 0.3104 - val_accuracy: 0.8512 - val_loss: 0.3497\n",
      "Epoch 100/100\n",
      "\u001b[1m200/200\u001b[0m \u001b[32m━━━━━━━━━━━━━━━━━━━━\u001b[0m\u001b[37m\u001b[0m \u001b[1m0s\u001b[0m 2ms/step - accuracy: 0.8659 - loss: 0.3170 - val_accuracy: 0.8537 - val_loss: 0.3474\n"
     ]
    }
   ],
   "source": [
    "history = model.fit(X_train_scaled,y_train,epochs=100,validation_split=0.2)"
   ]
  },
  {
   "cell_type": "code",
   "execution_count": 23,
   "metadata": {},
   "outputs": [
    {
     "data": {
      "text/plain": [
       "[array([[ 0.12322648, -0.15472019,  0.05785113,  0.41124418, -0.04609566,\n",
       "         -0.09312687,  0.61445534,  0.08133774,  0.211202  ,  0.5546953 ,\n",
       "          0.05652258],\n",
       "        [-0.81510705,  0.03058885, -0.01367156,  0.54610974, -0.29371175,\n",
       "         -0.1342419 , -0.5335844 , -0.590092  , -0.48509333,  0.41665787,\n",
       "         -0.9485084 ],\n",
       "        [-0.0064446 , -0.08207276, -0.0330205 ,  0.21869364, -0.31413472,\n",
       "         -0.12852629, -0.17174734,  0.06075466,  0.0832059 ,  0.24968427,\n",
       "         -0.17390321],\n",
       "        [ 0.51935244,  0.8568621 ,  0.12310463, -0.684133  , -0.27122793,\n",
       "         -0.29165137,  0.00721575,  0.62655884,  0.7987926 ,  0.05505387,\n",
       "         -0.28187054],\n",
       "        [-0.00740107,  0.5562257 ,  1.2177764 ,  0.03432357,  0.00711585,\n",
       "         -1.1309452 , -1.1781914 , -0.26666495, -0.5494775 , -0.41243368,\n",
       "          0.142053  ],\n",
       "        [ 0.3553739 , -0.00144749,  0.10263453,  0.10109997, -0.6301167 ,\n",
       "         -0.00696709, -0.41761312, -0.16536455,  0.28574097,  0.22396314,\n",
       "         -0.04268231],\n",
       "        [ 0.09982473, -0.09414008, -0.45389107, -0.20927715, -0.26212832,\n",
       "         -0.53952175,  0.4598106 , -0.7608872 , -0.4084426 , -0.7090394 ,\n",
       "         -0.5621464 ],\n",
       "        [ 0.15391977,  0.09151742, -0.02283735, -0.5072688 , -0.3978171 ,\n",
       "          0.11397378, -0.23253132, -0.07246803, -0.23333888, -0.19689238,\n",
       "         -0.01248538],\n",
       "        [-0.4579537 ,  0.43075734, -0.15894376, -0.69181204, -0.14297536,\n",
       "          0.01631898,  0.2435466 ,  0.16464002, -0.28373587,  0.29461008,\n",
       "          0.19090977],\n",
       "        [-0.24060285,  0.00510895,  0.00538315,  0.22550152, -0.21986645,\n",
       "         -0.12984048,  0.3481738 , -0.17538719, -0.17313746, -0.10533262,\n",
       "         -0.17441064],\n",
       "        [ 0.4459836 , -0.0201849 , -0.14425994, -0.19730927, -0.3714176 ,\n",
       "         -0.03817941, -0.02471294,  0.4399411 , -0.4525823 ,  0.22346264,\n",
       "         -0.03102829]], dtype=float32),\n",
       " array([ 0.36724156,  0.06475326, -0.2316955 ,  0.7605607 ,  0.50959224,\n",
       "         0.22861008, -0.09528483,  0.39427188,  0.05213216, -0.13831042,\n",
       "         0.9493273 ], dtype=float32)]"
      ]
     },
     "execution_count": 23,
     "metadata": {},
     "output_type": "execute_result"
    }
   ],
   "source": [
    "model.layers[0].get_weights()"
   ]
  },
  {
   "cell_type": "code",
   "execution_count": 24,
   "metadata": {},
   "outputs": [
    {
     "data": {
      "text/plain": [
       "[array([[ 6.15762532e-01, -7.50307977e-01,  4.30092901e-01,\n",
       "          3.82839799e-01,  3.24704021e-01,  2.82337129e-01,\n",
       "         -1.53680950e-01,  2.84680694e-01,  4.26215380e-01,\n",
       "          1.65000945e-01, -1.06247380e-01],\n",
       "        [-1.80279419e-01,  2.20154032e-01,  2.74512947e-01,\n",
       "          4.01455373e-01, -4.33915019e-01, -1.08810496e+00,\n",
       "         -2.10931167e-01,  4.45419848e-01,  1.86099887e-01,\n",
       "         -1.00554872e+00,  3.48450422e-01],\n",
       "        [-4.35681731e-01,  4.80664939e-01, -6.16384268e-01,\n",
       "          8.92982006e-01, -3.09066892e-01,  3.42800826e-01,\n",
       "         -4.37215090e-01,  5.96540153e-01, -3.52759451e-01,\n",
       "          3.53448913e-02, -5.02557814e-01],\n",
       "        [-5.14413238e-01, -2.18847822e-02,  4.45206970e-01,\n",
       "          5.81822097e-01,  6.26261175e-01,  2.45525464e-02,\n",
       "          3.29145700e-01,  4.19537902e-01, -1.87511206e-01,\n",
       "          1.68598577e-01,  3.33971918e-01],\n",
       "        [ 8.89329091e-02,  2.29220957e-01, -8.11321735e-01,\n",
       "          3.83718371e-01,  2.44637012e-01, -5.87086380e-01,\n",
       "          4.89879191e-01, -1.75214112e-01,  3.31367552e-03,\n",
       "          3.41668040e-01,  6.47597015e-02],\n",
       "        [ 5.80045342e-01,  6.67356074e-01, -2.91169286e-01,\n",
       "          4.04587805e-01, -2.99205899e-01, -1.99608922e-01,\n",
       "          2.95892686e-01,  5.55939794e-01, -1.87288761e-01,\n",
       "          2.88749278e-01, -5.02742469e-01],\n",
       "        [-7.34379768e-01, -1.66257508e-02, -1.02090728e+00,\n",
       "         -5.82867451e-02,  3.37437004e-01, -9.93463397e-01,\n",
       "          5.39537594e-02, -3.24454248e-01, -3.13155830e-01,\n",
       "          8.07258766e-04, -9.43277180e-01],\n",
       "        [ 3.47238064e-01, -9.06308293e-02, -1.50490683e-02,\n",
       "         -4.19003695e-01,  3.47945064e-01, -7.65155256e-02,\n",
       "         -1.32416070e-01, -5.44013023e-01, -6.11559331e-01,\n",
       "          1.44961447e-01,  1.29950657e-01],\n",
       "        [ 6.69479817e-02, -2.91130066e-01, -8.37070882e-01,\n",
       "         -5.62237680e-01, -1.30220234e-01,  5.00512600e-01,\n",
       "          6.55411005e-01,  2.07063347e-01, -1.07465275e-01,\n",
       "         -6.90125453e-04,  3.02199751e-01],\n",
       "        [-4.75337923e-01,  4.71246123e-01,  4.36776072e-01,\n",
       "          5.27100749e-02, -4.75017250e-01, -3.04121166e-01,\n",
       "          2.71153539e-01, -3.47489506e-01,  4.60924894e-01,\n",
       "         -4.20083076e-01, -4.31024224e-01],\n",
       "        [ 2.19703302e-01, -1.08395398e+00, -4.49247181e-01,\n",
       "          1.05789617e-01,  1.10300355e-01,  3.43134075e-01,\n",
       "         -5.70001781e-01, -1.32605240e-01,  4.11935657e-01,\n",
       "         -1.94934234e-01,  3.43427569e-01]], dtype=float32),\n",
       " array([-0.24530543,  0.11820905, -0.04321231, -0.36299807,  0.5970723 ,\n",
       "         0.19666056, -0.257271  , -0.25502813,  0.44505703,  0.62648344,\n",
       "         0.5070049 ], dtype=float32)]"
      ]
     },
     "execution_count": 24,
     "metadata": {},
     "output_type": "execute_result"
    }
   ],
   "source": [
    "model.layers[1].get_weights()"
   ]
  },
  {
   "cell_type": "code",
   "execution_count": 25,
   "metadata": {},
   "outputs": [
    {
     "name": "stdout",
     "output_type": "stream",
     "text": [
      "\u001b[1m63/63\u001b[0m \u001b[32m━━━━━━━━━━━━━━━━━━━━\u001b[0m\u001b[37m\u001b[0m \u001b[1m0s\u001b[0m 2ms/step\n"
     ]
    }
   ],
   "source": [
    "y_log = model.predict(X_test_scaled)"
   ]
  },
  {
   "cell_type": "code",
   "execution_count": 26,
   "metadata": {},
   "outputs": [
    {
     "data": {
      "text/plain": [
       "array([[0],\n",
       "       [0],\n",
       "       [0],\n",
       "       ...,\n",
       "       [0],\n",
       "       [0],\n",
       "       [1]])"
      ]
     },
     "execution_count": 26,
     "metadata": {},
     "output_type": "execute_result"
    }
   ],
   "source": [
    "y_pred = np.where(y_log>0.5,1,0)\n",
    "y_pred"
   ]
  },
  {
   "cell_type": "code",
   "execution_count": 27,
   "metadata": {},
   "outputs": [
    {
     "data": {
      "text/plain": [
       "0.862"
      ]
     },
     "execution_count": 27,
     "metadata": {},
     "output_type": "execute_result"
    }
   ],
   "source": [
    "from sklearn.metrics import accuracy_score\n",
    "accuracy_score(y_test,y_pred)"
   ]
  },
  {
   "cell_type": "code",
   "execution_count": 28,
   "metadata": {},
   "outputs": [],
   "source": [
    "import matplotlib.pyplot as plt"
   ]
  },
  {
   "cell_type": "code",
   "execution_count": 29,
   "metadata": {},
   "outputs": [
    {
     "data": {
      "text/plain": [
       "{'accuracy': [0.7581250071525574,\n",
       "  0.801562488079071,\n",
       "  0.8096874952316284,\n",
       "  0.8145312666893005,\n",
       "  0.8196874856948853,\n",
       "  0.8260937333106995,\n",
       "  0.8314062356948853,\n",
       "  0.8404687643051147,\n",
       "  0.8464062213897705,\n",
       "  0.8493750095367432,\n",
       "  0.8510937690734863,\n",
       "  0.8542187213897705,\n",
       "  0.8537499904632568,\n",
       "  0.8542187213897705,\n",
       "  0.8564062714576721,\n",
       "  0.8557812571525574,\n",
       "  0.8568750023841858,\n",
       "  0.8592187762260437,\n",
       "  0.8598437309265137,\n",
       "  0.859375,\n",
       "  0.8581249713897705,\n",
       "  0.8579687476158142,\n",
       "  0.858593761920929,\n",
       "  0.8609374761581421,\n",
       "  0.8592187762260437,\n",
       "  0.8584374785423279,\n",
       "  0.858593761920929,\n",
       "  0.8614062666893005,\n",
       "  0.8590624928474426,\n",
       "  0.8607812523841858,\n",
       "  0.860156238079071,\n",
       "  0.8606250286102295,\n",
       "  0.8607812523841858,\n",
       "  0.8615624904632568,\n",
       "  0.8621875047683716,\n",
       "  0.8620312213897705,\n",
       "  0.8621875047683716,\n",
       "  0.8631250262260437,\n",
       "  0.8642187714576721,\n",
       "  0.8628125190734863,\n",
       "  0.8637499809265137,\n",
       "  0.8629687428474426,\n",
       "  0.864062488079071,\n",
       "  0.8659374713897705,\n",
       "  0.8645312786102295,\n",
       "  0.86328125,\n",
       "  0.8634374737739563,\n",
       "  0.8634374737739563,\n",
       "  0.8651562333106995,\n",
       "  0.864062488079071,\n",
       "  0.86328125,\n",
       "  0.8648437261581421,\n",
       "  0.8642187714576721,\n",
       "  0.8662499785423279,\n",
       "  0.8639062643051147,\n",
       "  0.8660937547683716,\n",
       "  0.8654687404632568,\n",
       "  0.8634374737739563,\n",
       "  0.8665624856948853,\n",
       "  0.8650000095367432,\n",
       "  0.8662499785423279,\n",
       "  0.8665624856948853,\n",
       "  0.8645312786102295,\n",
       "  0.8671875,\n",
       "  0.8657812476158142,\n",
       "  0.8678125143051147,\n",
       "  0.8660937547683716,\n",
       "  0.8673437237739563,\n",
       "  0.8662499785423279,\n",
       "  0.8681250214576721,\n",
       "  0.8659374713897705,\n",
       "  0.8654687404632568,\n",
       "  0.867968738079071,\n",
       "  0.866406261920929,\n",
       "  0.8665624856948853,\n",
       "  0.8671875,\n",
       "  0.8689062595367432,\n",
       "  0.8670312762260437,\n",
       "  0.8662499785423279,\n",
       "  0.8650000095367432,\n",
       "  0.8675000071525574,\n",
       "  0.866406261920929,\n",
       "  0.8662499785423279,\n",
       "  0.8685937523841858,\n",
       "  0.8671875,\n",
       "  0.8682812452316284,\n",
       "  0.8668749928474426,\n",
       "  0.8681250214576721,\n",
       "  0.8684375286102295,\n",
       "  0.867968738079071,\n",
       "  0.8689062595367432,\n",
       "  0.8675000071525574,\n",
       "  0.8676562309265137,\n",
       "  0.867968738079071,\n",
       "  0.8681250214576721,\n",
       "  0.8690624833106995,\n",
       "  0.8685937523841858,\n",
       "  0.8662499785423279,\n",
       "  0.8692187666893005,\n",
       "  0.8676562309265137],\n",
       " 'loss': [0.5265576839447021,\n",
       "  0.45343002676963806,\n",
       "  0.436596155166626,\n",
       "  0.4251362681388855,\n",
       "  0.41536158323287964,\n",
       "  0.4054921865463257,\n",
       "  0.39542630314826965,\n",
       "  0.38579902052879333,\n",
       "  0.37663108110427856,\n",
       "  0.36887919902801514,\n",
       "  0.3628996014595032,\n",
       "  0.3577772080898285,\n",
       "  0.3552416265010834,\n",
       "  0.3526450991630554,\n",
       "  0.3504903316497803,\n",
       "  0.34934765100479126,\n",
       "  0.3478640019893646,\n",
       "  0.34681007266044617,\n",
       "  0.34581664204597473,\n",
       "  0.3452885150909424,\n",
       "  0.34480082988739014,\n",
       "  0.3447549045085907,\n",
       "  0.34348952770233154,\n",
       "  0.3426680862903595,\n",
       "  0.34248432517051697,\n",
       "  0.3422565162181854,\n",
       "  0.34158504009246826,\n",
       "  0.34105032682418823,\n",
       "  0.340535432100296,\n",
       "  0.3400084674358368,\n",
       "  0.33948004245758057,\n",
       "  0.3392057716846466,\n",
       "  0.3391000032424927,\n",
       "  0.3383557200431824,\n",
       "  0.33765530586242676,\n",
       "  0.3370766043663025,\n",
       "  0.3366764187812805,\n",
       "  0.3358219861984253,\n",
       "  0.3357650637626648,\n",
       "  0.33515655994415283,\n",
       "  0.33512306213378906,\n",
       "  0.3348418176174164,\n",
       "  0.3342851996421814,\n",
       "  0.33412522077560425,\n",
       "  0.33360764384269714,\n",
       "  0.33373162150382996,\n",
       "  0.3333744406700134,\n",
       "  0.3330261707305908,\n",
       "  0.3329090476036072,\n",
       "  0.3322361707687378,\n",
       "  0.33147498965263367,\n",
       "  0.33141109347343445,\n",
       "  0.3311445713043213,\n",
       "  0.3309519588947296,\n",
       "  0.33139052987098694,\n",
       "  0.3313087224960327,\n",
       "  0.33072537183761597,\n",
       "  0.32995155453681946,\n",
       "  0.32943591475486755,\n",
       "  0.32969677448272705,\n",
       "  0.32917511463165283,\n",
       "  0.3284073770046234,\n",
       "  0.3286570608615875,\n",
       "  0.32812434434890747,\n",
       "  0.3275487422943115,\n",
       "  0.3273203670978546,\n",
       "  0.3276483416557312,\n",
       "  0.3270185887813568,\n",
       "  0.32710757851600647,\n",
       "  0.32693707942962646,\n",
       "  0.3263012170791626,\n",
       "  0.3258473575115204,\n",
       "  0.32554587721824646,\n",
       "  0.3256128430366516,\n",
       "  0.32536792755126953,\n",
       "  0.32550063729286194,\n",
       "  0.3250728249549866,\n",
       "  0.3245648443698883,\n",
       "  0.32499799132347107,\n",
       "  0.32439175248146057,\n",
       "  0.3242735266685486,\n",
       "  0.3242122232913971,\n",
       "  0.3238106667995453,\n",
       "  0.32342469692230225,\n",
       "  0.32303085923194885,\n",
       "  0.3227151036262512,\n",
       "  0.32256993651390076,\n",
       "  0.322538286447525,\n",
       "  0.3223634660243988,\n",
       "  0.3219704031944275,\n",
       "  0.3217298984527588,\n",
       "  0.32162991166114807,\n",
       "  0.32197993993759155,\n",
       "  0.3215385675430298,\n",
       "  0.32175639271736145,\n",
       "  0.32178008556365967,\n",
       "  0.32103046774864197,\n",
       "  0.3210066258907318,\n",
       "  0.320760577917099,\n",
       "  0.3203131854534149],\n",
       " 'val_accuracy': [0.8025000095367432,\n",
       "  0.8118749856948853,\n",
       "  0.8143749833106995,\n",
       "  0.8168749809265137,\n",
       "  0.8199999928474426,\n",
       "  0.828125,\n",
       "  0.8356249928474426,\n",
       "  0.8381249904632568,\n",
       "  0.84375,\n",
       "  0.8506249785423279,\n",
       "  0.8543750047683716,\n",
       "  0.8518750071525574,\n",
       "  0.8550000190734863,\n",
       "  0.8537499904632568,\n",
       "  0.8531249761581421,\n",
       "  0.8512499928474426,\n",
       "  0.8512499928474426,\n",
       "  0.8500000238418579,\n",
       "  0.8543750047683716,\n",
       "  0.8525000214576721,\n",
       "  0.8543750047683716,\n",
       "  0.8525000214576721,\n",
       "  0.8525000214576721,\n",
       "  0.8531249761581421,\n",
       "  0.8500000238418579,\n",
       "  0.8537499904632568,\n",
       "  0.8525000214576721,\n",
       "  0.8525000214576721,\n",
       "  0.8543750047683716,\n",
       "  0.8537499904632568,\n",
       "  0.8581249713897705,\n",
       "  0.8537499904632568,\n",
       "  0.8556249737739563,\n",
       "  0.8518750071525574,\n",
       "  0.8550000190734863,\n",
       "  0.8543750047683716,\n",
       "  0.856249988079071,\n",
       "  0.8543750047683716,\n",
       "  0.8556249737739563,\n",
       "  0.8550000190734863,\n",
       "  0.8537499904632568,\n",
       "  0.8556249737739563,\n",
       "  0.8581249713897705,\n",
       "  0.8531249761581421,\n",
       "  0.8556249737739563,\n",
       "  0.8556249737739563,\n",
       "  0.8568750023841858,\n",
       "  0.856249988079071,\n",
       "  0.8568750023841858,\n",
       "  0.8568750023841858,\n",
       "  0.856249988079071,\n",
       "  0.8556249737739563,\n",
       "  0.8575000166893005,\n",
       "  0.8606250286102295,\n",
       "  0.8587499856948853,\n",
       "  0.8550000190734863,\n",
       "  0.8600000143051147,\n",
       "  0.8600000143051147,\n",
       "  0.8568750023841858,\n",
       "  0.8550000190734863,\n",
       "  0.8581249713897705,\n",
       "  0.856249988079071,\n",
       "  0.8537499904632568,\n",
       "  0.856249988079071,\n",
       "  0.8537499904632568,\n",
       "  0.8575000166893005,\n",
       "  0.8575000166893005,\n",
       "  0.8550000190734863,\n",
       "  0.8556249737739563,\n",
       "  0.8556249737739563,\n",
       "  0.8550000190734863,\n",
       "  0.8556249737739563,\n",
       "  0.8543750047683716,\n",
       "  0.8568750023841858,\n",
       "  0.856249988079071,\n",
       "  0.8556249737739563,\n",
       "  0.856249988079071,\n",
       "  0.8556249737739563,\n",
       "  0.856249988079071,\n",
       "  0.8568750023841858,\n",
       "  0.8550000190734863,\n",
       "  0.8537499904632568,\n",
       "  0.8550000190734863,\n",
       "  0.8550000190734863,\n",
       "  0.8543750047683716,\n",
       "  0.856249988079071,\n",
       "  0.8550000190734863,\n",
       "  0.856249988079071,\n",
       "  0.8556249737739563,\n",
       "  0.8568750023841858,\n",
       "  0.8575000166893005,\n",
       "  0.8550000190734863,\n",
       "  0.8568750023841858,\n",
       "  0.856249988079071,\n",
       "  0.8531249761581421,\n",
       "  0.8512499928474426,\n",
       "  0.8543750047683716,\n",
       "  0.8512499928474426,\n",
       "  0.8512499928474426,\n",
       "  0.8537499904632568],\n",
       " 'val_loss': [0.464061975479126,\n",
       "  0.44099217653274536,\n",
       "  0.42774859070777893,\n",
       "  0.4189048707485199,\n",
       "  0.4108724892139435,\n",
       "  0.40023940801620483,\n",
       "  0.391551673412323,\n",
       "  0.3801102042198181,\n",
       "  0.372911274433136,\n",
       "  0.3650487959384918,\n",
       "  0.3607841432094574,\n",
       "  0.35841667652130127,\n",
       "  0.3559911251068115,\n",
       "  0.3553662598133087,\n",
       "  0.35487422347068787,\n",
       "  0.3548777103424072,\n",
       "  0.35349273681640625,\n",
       "  0.354236900806427,\n",
       "  0.35322773456573486,\n",
       "  0.351648211479187,\n",
       "  0.35089433193206787,\n",
       "  0.35183852910995483,\n",
       "  0.35217520594596863,\n",
       "  0.35346686840057373,\n",
       "  0.3508217930793762,\n",
       "  0.34963494539260864,\n",
       "  0.3513696789741516,\n",
       "  0.3515188694000244,\n",
       "  0.3496747612953186,\n",
       "  0.35190340876579285,\n",
       "  0.35000818967819214,\n",
       "  0.35175472497940063,\n",
       "  0.35116222500801086,\n",
       "  0.3507115840911865,\n",
       "  0.3514283299446106,\n",
       "  0.35051795840263367,\n",
       "  0.3501497209072113,\n",
       "  0.3513021767139435,\n",
       "  0.35086262226104736,\n",
       "  0.34993231296539307,\n",
       "  0.35047221183776855,\n",
       "  0.35100069642066956,\n",
       "  0.35298606753349304,\n",
       "  0.3508422374725342,\n",
       "  0.3515157997608185,\n",
       "  0.3516339063644409,\n",
       "  0.35181987285614014,\n",
       "  0.3514685034751892,\n",
       "  0.3508074879646301,\n",
       "  0.35065945982933044,\n",
       "  0.35189783573150635,\n",
       "  0.35110020637512207,\n",
       "  0.34853458404541016,\n",
       "  0.3487919867038727,\n",
       "  0.3479859530925751,\n",
       "  0.3498009443283081,\n",
       "  0.34804484248161316,\n",
       "  0.34892117977142334,\n",
       "  0.34907445311546326,\n",
       "  0.3475535213947296,\n",
       "  0.3477722406387329,\n",
       "  0.3466038107872009,\n",
       "  0.3491124212741852,\n",
       "  0.3470473885536194,\n",
       "  0.3468582034111023,\n",
       "  0.3493975102901459,\n",
       "  0.34695950150489807,\n",
       "  0.3495734930038452,\n",
       "  0.3491673767566681,\n",
       "  0.34777122735977173,\n",
       "  0.3461739420890808,\n",
       "  0.3469144403934479,\n",
       "  0.3463520109653473,\n",
       "  0.34643542766571045,\n",
       "  0.3459475040435791,\n",
       "  0.3460574448108673,\n",
       "  0.3458392024040222,\n",
       "  0.34628716111183167,\n",
       "  0.34751972556114197,\n",
       "  0.346248596906662,\n",
       "  0.34779712557792664,\n",
       "  0.34743785858154297,\n",
       "  0.35004523396492004,\n",
       "  0.34654781222343445,\n",
       "  0.3471898138523102,\n",
       "  0.34662461280822754,\n",
       "  0.34824055433273315,\n",
       "  0.34668925404548645,\n",
       "  0.34654343128204346,\n",
       "  0.34827473759651184,\n",
       "  0.34777843952178955,\n",
       "  0.3478401303291321,\n",
       "  0.3468697667121887,\n",
       "  0.3454170227050781,\n",
       "  0.3474093973636627,\n",
       "  0.3475216031074524,\n",
       "  0.3477546274662018,\n",
       "  0.3484641909599304,\n",
       "  0.3496629297733307,\n",
       "  0.34743908047676086]}"
      ]
     },
     "execution_count": 29,
     "metadata": {},
     "output_type": "execute_result"
    }
   ],
   "source": [
    "history.history"
   ]
  },
  {
   "cell_type": "code",
   "execution_count": 30,
   "metadata": {},
   "outputs": [
    {
     "data": {
      "text/plain": [
       "[<matplotlib.lines.Line2D at 0x25a48bb3250>]"
      ]
     },
     "execution_count": 30,
     "metadata": {},
     "output_type": "execute_result"
    },
    {
     "data": {
      "image/png": "[encoded data removed]",
      "text/plain": [
       "<Figure size 640x480 with 1 Axes>"
      ]
     },
     "metadata": {},
     "output_type": "display_data"
    }
   ],
   "source": [
    "plt.plot(history.history['loss'])"
   ]
  },
  {
   "cell_type": "code",
   "execution_count": 31,
   "metadata": {},
   "outputs": [
    {
     "data": {
      "text/plain": [
       "[<matplotlib.lines.Line2D at 0x25a4b657d50>]"
      ]
     },
     "execution_count": 31,
     "metadata": {},
     "output_type": "execute_result"
    },
    {
     "data": {
      "image/png": "[encoded data removed]",
      "text/plain": [
       "<Figure size 640x480 with 1 Axes>"
      ]
     },
     "metadata": {},
     "output_type": "display_data"
    }
   ],
   "source": [
    "plt.plot(history.history['val_loss'])"
   ]
  },
  {
   "cell_type": "code",
   "execution_count": 32,
   "metadata": {},
   "outputs": [
    {
     "data": {
      "text/plain": [
       "[<matplotlib.lines.Line2D at 0x25a4e8491d0>]"
      ]
     },
     "execution_count": 32,
     "metadata": {},
     "output_type": "execute_result"
    },
    {
     "data": {
      "image/png": "[encoded data removed]",
      "text/plain": [
       "<Figure size 640x480 with 1 Axes>"
      ]
     },
     "metadata": {},
     "output_type": "display_data"
    }
   ],
   "source": [
    "plt.plot(history.history['loss'])\n",
    "plt.plot(history.history['val_loss'])"
   ]
  },
  {
   "cell_type": "code",
   "execution_count": 33,
   "metadata": {},
   "outputs": [
    {
     "data": {
      "text/plain": [
       "[<matplotlib.lines.Line2D at 0x25a4e87da90>]"
      ]
     },
     "execution_count": 33,
     "metadata": {},
     "output_type": "execute_result"
    },
    {
     "data": {
      "image/png": "[encoded data removed]",
      "text/plain": [
       "<Figure size 640x480 with 1 Axes>"
      ]
     },
     "metadata": {},
     "output_type": "display_data"
    }
   ],
   "source": [
    "plt.plot(history.history['accuracy'])"
   ]
  },
  {
   "cell_type": "code",
   "execution_count": 34,
   "metadata": {},
   "outputs": [
    {
     "data": {
      "text/plain": [
       "[<matplotlib.lines.Line2D at 0x25a4b649e50>]"
      ]
     },
     "execution_count": 34,
     "metadata": {},
     "output_type": "execute_result"
    },
    {
     "data": {
      "image/png": "[encoded data removed]",
      "text/plain": [
       "<Figure size 640x480 with 1 Axes>"
      ]
     },
     "metadata": {},
     "output_type": "display_data"
    }
   ],
   "source": [
    "plt.plot(history.history['val_accuracy'])"
   ]
  },
  {
   "cell_type": "code",
   "execution_count": 35,
   "metadata": {},
   "outputs": [
    {
     "data": {
      "text/plain": [
       "[<matplotlib.lines.Line2D at 0x25a4c75e850>]"
      ]
     },
     "execution_count": 35,
     "metadata": {},
     "output_type": "execute_result"
    },
    {
     "data": {
      "image/png": "[encoded data removed]",
      "text/plain": [
       "<Figure size 640x480 with 1 Axes>"
      ]
     },
     "metadata": {},
     "output_type": "display_data"
    }
   ],
   "source": [
    "plt.plot(history.history['accuracy'])\n",
    "plt.plot(history.history['val_accuracy'])"
   ]
  },
  {
   "cell_type": "code",
   "execution_count": null,
   "metadata": {},
   "outputs": [],
   "source": []
  }
 ],
 "metadata": {
  "kernelspec": {
   "display_name": "Python 3",
   "language": "python",
   "name": "python3"
  },
  "language_info": {
   "codemirror_mode": {
    "name": "ipython",
    "version": 3
   },
   "file_extension": ".py",
   "mimetype": "text/x-python",
   "name": "python",
   "nbconvert_exporter": "python",
   "pygments_lexer": "ipython3",
   "version": "3.11.0"
  }
 },
 "nbformat": 4,
 "nbformat_minor": 2
}
